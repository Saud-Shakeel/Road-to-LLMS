{
 "cells": [
  {
   "cell_type": "code",
   "execution_count": 54,
   "id": "3c9aecb2",
   "metadata": {},
   "outputs": [
    {
     "name": "stderr",
     "output_type": "stream",
     "text": [
      "/Users/saud/Desktop/LLM_Projects/venv/lib/python3.9/site-packages/urllib3/__init__.py:35: NotOpenSSLWarning: urllib3 v2 only supports OpenSSL 1.1.1+, currently the 'ssl' module is compiled with 'LibreSSL 2.8.3'. See: https://github.com/urllib3/urllib3/issues/3020\n",
      "  warnings.warn(\n"
     ]
    }
   ],
   "source": [
    "from openai import OpenAI\n",
    "from dotenv import load_dotenv\n",
    "import os\n",
    "import anthropic\n",
    "import gradio as gr"
   ]
  },
  {
   "cell_type": "code",
   "execution_count": 3,
   "id": "c91fbcdd",
   "metadata": {},
   "outputs": [
    {
     "name": "stdout",
     "output_type": "stream",
     "text": [
      "API key exists, good to go.\n"
     ]
    }
   ],
   "source": [
    "load_dotenv()\n",
    "openai_api_key = os.getenv('OPENAI_API_KEY')\n",
    "\n",
    "if openai_api_key and openai_api_key.startswith('sk-proj-'):\n",
    "    print('API key exists, good to go.')\n",
    "else:\n",
    "    print(\"API key doesn't exist, troubleshoot the problem\")"
   ]
  },
  {
   "cell_type": "code",
   "execution_count": 49,
   "id": "9e66f5e5",
   "metadata": {},
   "outputs": [],
   "source": [
    "openai = OpenAI()\n",
    "GPT_MODEL = 'gpt-4o-mini'\n",
    "anthropic = anthropic.Anthropic()\n",
    "CLAUDE_MODEL = 'claude-3-5-sonnet-20240620'\n",
    "\n",
    "system_message = \"You are an assistant that reimplements Python code in high performance C++ for an M1 Mac. \"\n",
    "system_message += \"Respond only with C++ code; use comments sparingly and do not provide any explanation other than occasional comments. \"\n",
    "system_message += \"The C++ response needs to produce an identical output in the fastest possible time. \"\n",
    "system_message += \"#include all necesarry libaries or packages that are required for a C++ code.\"\n",
    "\n",
    "\n",
    "def user_message(python_code):\n",
    "    prompt = \"Rewrite this Python code in C++ with the fastest possible implementation that produces identical output in the least time. \"\n",
    "    prompt += \"Respond only with C++ code; do not explain your work other than a few comments. \"\n",
    "    prompt += \"Pay attention to number types to ensure no int overflows. Remember to #include all necessary C++ packages such as iomanip.\\n\\n\"\n",
    "    prompt += python_code\n",
    "    return prompt"
   ]
  },
  {
   "cell_type": "code",
   "execution_count": 6,
   "id": "8dc4b0bb",
   "metadata": {},
   "outputs": [],
   "source": [
    "def message_for(python_code):\n",
    "    return [\n",
    "        {'role': 'system', 'content': system_message},\n",
    "        {'role': 'user', 'content': user_message(python_code)}\n",
    "    ]\n",
    "    "
   ]
  },
  {
   "cell_type": "code",
   "execution_count": 38,
   "id": "4d8d630c",
   "metadata": {},
   "outputs": [],
   "source": [
    "def write_cpp_code_to_file(cpp_code):\n",
    "    code = cpp_code.replace('```cpp', \"\").replace('```', \"\")\n",
    "    with open('optimized.cpp', 'w') as f:\n",
    "        f.write(code)\n",
    "    "
   ]
  },
  {
   "cell_type": "code",
   "execution_count": 65,
   "id": "9aadef49",
   "metadata": {},
   "outputs": [],
   "source": [
    "def stream_gpt_response(python_code):\n",
    "    response = openai.chat.completions.create(\n",
    "        model= GPT_MODEL,\n",
    "        messages= message_for(python_code),\n",
    "        stream= True\n",
    "    )\n",
    "    result = \"\"\n",
    "    for chunk in response:\n",
    "        stream = chunk.choices[0].delta.content or \"\"\n",
    "        result += stream\n",
    "    yield result.replace('```cpp', '').replace('```', '')\n",
    "    \n",
    "    write_cpp_code_to_file(result)\n"
   ]
  },
  {
   "cell_type": "code",
   "execution_count": 66,
   "id": "c6d05b90",
   "metadata": {},
   "outputs": [],
   "source": [
    "def stream_claude_response(python_code):\n",
    "    response = anthropic.messages.stream(\n",
    "        model= CLAUDE_MODEL,\n",
    "        system= system_message,\n",
    "        messages= [{\"role\": \"user\", \"content\": user_message(python_code)}],\n",
    "        max_tokens= 200\n",
    "    )\n",
    "    result = \"\"\n",
    "    with response as stream:\n",
    "        for chunk in stream.text_stream:\n",
    "            result += chunk\n",
    "    yield result.replace('```cpp', '').replace('```', '')\n",
    "    \n",
    "    write_cpp_code_to_file(result)\n"
   ]
  },
  {
   "cell_type": "code",
   "execution_count": 67,
   "id": "05aa44d3",
   "metadata": {},
   "outputs": [],
   "source": [
    "python = \"\"\"\n",
    "import time\n",
    "\n",
    "def calculate(iterations, param1, param2):\n",
    "    result = 1.0\n",
    "    for i in range(1, iterations+1):\n",
    "        j = i * param1 - param2\n",
    "        result -= (1/j)\n",
    "        j = i * param1 + param2\n",
    "        result += (1/j)\n",
    "    return result\n",
    "\n",
    "start_time = time.time()\n",
    "result = calculate(100_000_000, 4, 1) * 4\n",
    "end_time = time.time()\n",
    "\n",
    "print(f\"Result: {result:.12f}\")\n",
    "print(f\"Execution Time: {(end_time - start_time):.6f} seconds\")\n",
    "\"\"\""
   ]
  },
  {
   "cell_type": "code",
   "execution_count": 61,
   "id": "a1274573",
   "metadata": {},
   "outputs": [
    {
     "name": "stdout",
     "output_type": "stream",
     "text": [
      "Result: 3.141592658589\n",
      "Execution Time: 21.394866 seconds\n"
     ]
    }
   ],
   "source": [
    "exec(python)"
   ]
  },
  {
   "cell_type": "code",
   "execution_count": 62,
   "id": "cf9b37b0",
   "metadata": {},
   "outputs": [
    {
     "name": "stdout",
     "output_type": "stream",
     "text": [
      "```cpp\n",
      "#include <iostream>\n",
      "#include <iomanip>\n",
      "#include <chrono>\n",
      "\n",
      "double calculate(int64_t iterations, double param1, double param2) {\n",
      "    double result = 1.0;\n",
      "    for (int64_t i = 1; i <= iterations; ++i) {\n",
      "        double j = i * param1 - param2;\n",
      "        result -= (1.0 / j);\n",
      "        j = i * param1 + param2;\n",
      "        result += (1.0 / j);\n",
      "    }\n",
      "    return result;\n",
      "}\n",
      "\n",
      "int main() {\n",
      "    auto start_time = std::chrono::high_resolution_clock::now();\n",
      "    double result = calculate(100000000, 4.0, 1.0) * 4.0;\n",
      "    auto end_time = std::chrono::high_resolution_clock::now();\n",
      "\n",
      "    std::chrono::duration<double> elapsed = end_time - start_time;\n",
      "\n",
      "    std::cout << std::fixed << std::setprecision(12) << \"Result: \" << result << std::endl;\n",
      "    std::cout << std::fixed << std::setprecision(6) << \"Execution Time: \" << elapsed.count() << \" seconds\" << std::endl;\n",
      "\n",
      "    return 0;\n",
      "}\n",
      "```"
     ]
    }
   ],
   "source": [
    "stream_gpt_response(python)"
   ]
  },
  {
   "cell_type": "code",
   "execution_count": 68,
   "id": "e246d2eb",
   "metadata": {},
   "outputs": [],
   "source": [
    "def select_streaming_model(model, python_code):\n",
    "    if model == 'GPT':\n",
    "        response = stream_gpt_response(python_code)\n",
    "    elif model == 'Claude':\n",
    "        response = stream_claude_response(python_code)\n",
    "    else:\n",
    "        raise ValueError(\"Unknown model\")\n",
    "\n",
    "    for streaming_text in response:\n",
    "        yield streaming_text"
   ]
  },
  {
   "cell_type": "code",
   "execution_count": null,
   "id": "9afd86e8",
   "metadata": {},
   "outputs": [
    {
     "name": "stdout",
     "output_type": "stream",
     "text": [
      "Running on local URL:  http://127.0.0.1:7865\n",
      "\n",
      "To create a public link, set `share=True` in `launch()`.\n"
     ]
    },
    {
     "data": {
      "text/html": [
       "<div><iframe src=\"http://127.0.0.1:7865/\" width=\"100%\" height=\"500\" allow=\"autoplay; camera; microphone; clipboard-read; clipboard-write;\" frameborder=\"0\" allowfullscreen></iframe></div>"
      ],
      "text/plain": [
       "<IPython.core.display.HTML object>"
      ]
     },
     "metadata": {},
     "output_type": "display_data"
    },
    {
     "data": {
      "text/plain": []
     },
     "execution_count": 70,
     "metadata": {},
     "output_type": "execute_result"
    }
   ],
   "source": [
    "def select_streaming_model(model, python_code):\n",
    "    if model == 'GPT':\n",
    "        response = stream_gpt_response(python_code)\n",
    "    elif model == 'Claude':\n",
    "        response = stream_claude_response(python_code)\n",
    "    else:\n",
    "        raise ValueError(f\"Unknown model: {model}\")\n",
    "\n",
    "    for streaming_text in response:\n",
    "        yield streaming_text\n",
    "\n",
    "with gr.Blocks() as ui:\n",
    "    with gr.Row():\n",
    "        python = gr.Textbox(label=\"Python code:\", lines=10, value=python)\n",
    "        cpp = gr.Textbox(label=\"C++ code:\", lines=10)\n",
    "    with gr.Row():\n",
    "        model = gr.Dropdown([\"GPT\", \"Claude\"], label=\"Select model\", value=\"GPT\")\n",
    "        convert = gr.Button(\"Convert code\")\n",
    "\n",
    "    # Fix the order of inputs\n",
    "    convert.click(select_streaming_model, inputs=[model, python], outputs=[cpp])\n",
    "\n",
    "ui.launch(inbrowser=True)\n"
   ]
  },
  {
   "cell_type": "code",
   "execution_count": null,
   "id": "281b7775",
   "metadata": {},
   "outputs": [],
   "source": []
  },
  {
   "cell_type": "code",
   "execution_count": null,
   "id": "20932c97",
   "metadata": {},
   "outputs": [],
   "source": []
  }
 ],
 "metadata": {
  "kernelspec": {
   "display_name": "venv",
   "language": "python",
   "name": "python3"
  },
  "language_info": {
   "codemirror_mode": {
    "name": "ipython",
    "version": 3
   },
   "file_extension": ".py",
   "mimetype": "text/x-python",
   "name": "python",
   "nbconvert_exporter": "python",
   "pygments_lexer": "ipython3",
   "version": "3.9.6"
  }
 },
 "nbformat": 4,
 "nbformat_minor": 5
}
