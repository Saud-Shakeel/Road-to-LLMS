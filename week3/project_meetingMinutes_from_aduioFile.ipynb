{
  "nbformat": 4,
  "nbformat_minor": 0,
  "metadata": {
    "colab": {
      "provenance": [],
      "gpuType": "T4"
    },
    "kernelspec": {
      "name": "python3",
      "display_name": "Python 3"
    },
    "language_info": {
      "name": "python"
    },
    "accelerator": "GPU",
    "widgets": {
      "application/vnd.jupyter.widget-state+json": {
        "6e2ff4d248b741799de8f1bc8b9f7026": {
          "model_module": "@jupyter-widgets/controls",
          "model_name": "HBoxModel",
          "model_module_version": "1.5.0",
          "state": {
            "_dom_classes": [],
            "_model_module": "@jupyter-widgets/controls",
            "_model_module_version": "1.5.0",
            "_model_name": "HBoxModel",
            "_view_count": null,
            "_view_module": "@jupyter-widgets/controls",
            "_view_module_version": "1.5.0",
            "_view_name": "HBoxView",
            "box_style": "",
            "children": [
              "IPY_MODEL_7ab086eb87ef4e80b366e181e11f6562",
              "IPY_MODEL_0dc59c8c01814db6bf9fb3494e5e812a",
              "IPY_MODEL_d7f3882e2c0a4380a21af11132a6e34e"
            ],
            "layout": "IPY_MODEL_7a6ec13db6f346968ea681f8f1364123"
          }
        },
        "7ab086eb87ef4e80b366e181e11f6562": {
          "model_module": "@jupyter-widgets/controls",
          "model_name": "HTMLModel",
          "model_module_version": "1.5.0",
          "state": {
            "_dom_classes": [],
            "_model_module": "@jupyter-widgets/controls",
            "_model_module_version": "1.5.0",
            "_model_name": "HTMLModel",
            "_view_count": null,
            "_view_module": "@jupyter-widgets/controls",
            "_view_module_version": "1.5.0",
            "_view_name": "HTMLView",
            "description": "",
            "description_tooltip": null,
            "layout": "IPY_MODEL_17c31d8ec63241bbb9d9d8315f0f1a69",
            "placeholder": "​",
            "style": "IPY_MODEL_9f55d1a7e42c41cda2f6586cc61aa098",
            "value": "Loading checkpoint shards: 100%"
          }
        },
        "0dc59c8c01814db6bf9fb3494e5e812a": {
          "model_module": "@jupyter-widgets/controls",
          "model_name": "FloatProgressModel",
          "model_module_version": "1.5.0",
          "state": {
            "_dom_classes": [],
            "_model_module": "@jupyter-widgets/controls",
            "_model_module_version": "1.5.0",
            "_model_name": "FloatProgressModel",
            "_view_count": null,
            "_view_module": "@jupyter-widgets/controls",
            "_view_module_version": "1.5.0",
            "_view_name": "ProgressView",
            "bar_style": "success",
            "description": "",
            "description_tooltip": null,
            "layout": "IPY_MODEL_b68d142f9a7a40ef9fb6f6a2bea3a7a4",
            "max": 4,
            "min": 0,
            "orientation": "horizontal",
            "style": "IPY_MODEL_79384a9dcd65477ea712d750e1e5d9b3",
            "value": 4
          }
        },
        "d7f3882e2c0a4380a21af11132a6e34e": {
          "model_module": "@jupyter-widgets/controls",
          "model_name": "HTMLModel",
          "model_module_version": "1.5.0",
          "state": {
            "_dom_classes": [],
            "_model_module": "@jupyter-widgets/controls",
            "_model_module_version": "1.5.0",
            "_model_name": "HTMLModel",
            "_view_count": null,
            "_view_module": "@jupyter-widgets/controls",
            "_view_module_version": "1.5.0",
            "_view_name": "HTMLView",
            "description": "",
            "description_tooltip": null,
            "layout": "IPY_MODEL_89440a0dc0d64948b41ff92fb35fdec7",
            "placeholder": "​",
            "style": "IPY_MODEL_818dab53411f47c592d7b16e4f317ad5",
            "value": " 4/4 [01:33&lt;00:00, 20.22s/it]"
          }
        },
        "7a6ec13db6f346968ea681f8f1364123": {
          "model_module": "@jupyter-widgets/base",
          "model_name": "LayoutModel",
          "model_module_version": "1.2.0",
          "state": {
            "_model_module": "@jupyter-widgets/base",
            "_model_module_version": "1.2.0",
            "_model_name": "LayoutModel",
            "_view_count": null,
            "_view_module": "@jupyter-widgets/base",
            "_view_module_version": "1.2.0",
            "_view_name": "LayoutView",
            "align_content": null,
            "align_items": null,
            "align_self": null,
            "border": null,
            "bottom": null,
            "display": null,
            "flex": null,
            "flex_flow": null,
            "grid_area": null,
            "grid_auto_columns": null,
            "grid_auto_flow": null,
            "grid_auto_rows": null,
            "grid_column": null,
            "grid_gap": null,
            "grid_row": null,
            "grid_template_areas": null,
            "grid_template_columns": null,
            "grid_template_rows": null,
            "height": null,
            "justify_content": null,
            "justify_items": null,
            "left": null,
            "margin": null,
            "max_height": null,
            "max_width": null,
            "min_height": null,
            "min_width": null,
            "object_fit": null,
            "object_position": null,
            "order": null,
            "overflow": null,
            "overflow_x": null,
            "overflow_y": null,
            "padding": null,
            "right": null,
            "top": null,
            "visibility": null,
            "width": null
          }
        },
        "17c31d8ec63241bbb9d9d8315f0f1a69": {
          "model_module": "@jupyter-widgets/base",
          "model_name": "LayoutModel",
          "model_module_version": "1.2.0",
          "state": {
            "_model_module": "@jupyter-widgets/base",
            "_model_module_version": "1.2.0",
            "_model_name": "LayoutModel",
            "_view_count": null,
            "_view_module": "@jupyter-widgets/base",
            "_view_module_version": "1.2.0",
            "_view_name": "LayoutView",
            "align_content": null,
            "align_items": null,
            "align_self": null,
            "border": null,
            "bottom": null,
            "display": null,
            "flex": null,
            "flex_flow": null,
            "grid_area": null,
            "grid_auto_columns": null,
            "grid_auto_flow": null,
            "grid_auto_rows": null,
            "grid_column": null,
            "grid_gap": null,
            "grid_row": null,
            "grid_template_areas": null,
            "grid_template_columns": null,
            "grid_template_rows": null,
            "height": null,
            "justify_content": null,
            "justify_items": null,
            "left": null,
            "margin": null,
            "max_height": null,
            "max_width": null,
            "min_height": null,
            "min_width": null,
            "object_fit": null,
            "object_position": null,
            "order": null,
            "overflow": null,
            "overflow_x": null,
            "overflow_y": null,
            "padding": null,
            "right": null,
            "top": null,
            "visibility": null,
            "width": null
          }
        },
        "9f55d1a7e42c41cda2f6586cc61aa098": {
          "model_module": "@jupyter-widgets/controls",
          "model_name": "DescriptionStyleModel",
          "model_module_version": "1.5.0",
          "state": {
            "_model_module": "@jupyter-widgets/controls",
            "_model_module_version": "1.5.0",
            "_model_name": "DescriptionStyleModel",
            "_view_count": null,
            "_view_module": "@jupyter-widgets/base",
            "_view_module_version": "1.2.0",
            "_view_name": "StyleView",
            "description_width": ""
          }
        },
        "b68d142f9a7a40ef9fb6f6a2bea3a7a4": {
          "model_module": "@jupyter-widgets/base",
          "model_name": "LayoutModel",
          "model_module_version": "1.2.0",
          "state": {
            "_model_module": "@jupyter-widgets/base",
            "_model_module_version": "1.2.0",
            "_model_name": "LayoutModel",
            "_view_count": null,
            "_view_module": "@jupyter-widgets/base",
            "_view_module_version": "1.2.0",
            "_view_name": "LayoutView",
            "align_content": null,
            "align_items": null,
            "align_self": null,
            "border": null,
            "bottom": null,
            "display": null,
            "flex": null,
            "flex_flow": null,
            "grid_area": null,
            "grid_auto_columns": null,
            "grid_auto_flow": null,
            "grid_auto_rows": null,
            "grid_column": null,
            "grid_gap": null,
            "grid_row": null,
            "grid_template_areas": null,
            "grid_template_columns": null,
            "grid_template_rows": null,
            "height": null,
            "justify_content": null,
            "justify_items": null,
            "left": null,
            "margin": null,
            "max_height": null,
            "max_width": null,
            "min_height": null,
            "min_width": null,
            "object_fit": null,
            "object_position": null,
            "order": null,
            "overflow": null,
            "overflow_x": null,
            "overflow_y": null,
            "padding": null,
            "right": null,
            "top": null,
            "visibility": null,
            "width": null
          }
        },
        "79384a9dcd65477ea712d750e1e5d9b3": {
          "model_module": "@jupyter-widgets/controls",
          "model_name": "ProgressStyleModel",
          "model_module_version": "1.5.0",
          "state": {
            "_model_module": "@jupyter-widgets/controls",
            "_model_module_version": "1.5.0",
            "_model_name": "ProgressStyleModel",
            "_view_count": null,
            "_view_module": "@jupyter-widgets/base",
            "_view_module_version": "1.2.0",
            "_view_name": "StyleView",
            "bar_color": null,
            "description_width": ""
          }
        },
        "89440a0dc0d64948b41ff92fb35fdec7": {
          "model_module": "@jupyter-widgets/base",
          "model_name": "LayoutModel",
          "model_module_version": "1.2.0",
          "state": {
            "_model_module": "@jupyter-widgets/base",
            "_model_module_version": "1.2.0",
            "_model_name": "LayoutModel",
            "_view_count": null,
            "_view_module": "@jupyter-widgets/base",
            "_view_module_version": "1.2.0",
            "_view_name": "LayoutView",
            "align_content": null,
            "align_items": null,
            "align_self": null,
            "border": null,
            "bottom": null,
            "display": null,
            "flex": null,
            "flex_flow": null,
            "grid_area": null,
            "grid_auto_columns": null,
            "grid_auto_flow": null,
            "grid_auto_rows": null,
            "grid_column": null,
            "grid_gap": null,
            "grid_row": null,
            "grid_template_areas": null,
            "grid_template_columns": null,
            "grid_template_rows": null,
            "height": null,
            "justify_content": null,
            "justify_items": null,
            "left": null,
            "margin": null,
            "max_height": null,
            "max_width": null,
            "min_height": null,
            "min_width": null,
            "object_fit": null,
            "object_position": null,
            "order": null,
            "overflow": null,
            "overflow_x": null,
            "overflow_y": null,
            "padding": null,
            "right": null,
            "top": null,
            "visibility": null,
            "width": null
          }
        },
        "818dab53411f47c592d7b16e4f317ad5": {
          "model_module": "@jupyter-widgets/controls",
          "model_name": "DescriptionStyleModel",
          "model_module_version": "1.5.0",
          "state": {
            "_model_module": "@jupyter-widgets/controls",
            "_model_module_version": "1.5.0",
            "_model_name": "DescriptionStyleModel",
            "_view_count": null,
            "_view_module": "@jupyter-widgets/base",
            "_view_module_version": "1.2.0",
            "_view_name": "StyleView",
            "description_width": ""
          }
        }
      }
    }
  },
  "cells": [
    {
      "cell_type": "code",
      "execution_count": 1,
      "metadata": {
        "id": "RGA8MI5eDkyN"
      },
      "outputs": [],
      "source": [
        "!pip install -q transformers torch bitsandbytes requests sentencepiece openai accelerate"
      ]
    },
    {
      "cell_type": "code",
      "source": [
        "from google.colab import userdata\n",
        "from transformers import AutoTokenizer, AutoModelForCausalLM, TextStreamer, BitsAndBytesConfig\n",
        "import torch\n",
        "from IPython.display import display, Markdown\n",
        "from huggingface_hub import login\n",
        "from openai import OpenAI"
      ],
      "metadata": {
        "id": "pvVRBq-0D93n"
      },
      "execution_count": 2,
      "outputs": []
    },
    {
      "cell_type": "code",
      "source": [
        "login(userdata.get('HF_TOKEN'))\n",
        "openai_api_key = userdata.get('OPENAI_API_KEY')"
      ],
      "metadata": {
        "id": "QSOwTa4zeWSO"
      },
      "execution_count": 3,
      "outputs": []
    },
    {
      "cell_type": "code",
      "source": [
        "openai = OpenAI(api_key=openai_api_key)\n"
      ],
      "metadata": {
        "id": "JQqcFYTTd43q"
      },
      "execution_count": 4,
      "outputs": []
    },
    {
      "cell_type": "code",
      "source": [
        "MODEL = 'whisper-1'\n",
        "audio_filename = open('/content/denver_extract.mp3', 'rb')\n",
        "device = \"cuda\" if torch.cuda.is_available() else \"cpu\""
      ],
      "metadata": {
        "id": "S3X61O1QmeqH"
      },
      "execution_count": 5,
      "outputs": []
    },
    {
      "cell_type": "code",
      "source": [
        "def transcribe(audio_file):\n",
        "  response = openai.audio.transcriptions.create(\n",
        "      model = MODEL,\n",
        "      file = audio_file,\n",
        "\n",
        "  )\n",
        "  return response.text\n"
      ],
      "metadata": {
        "id": "XHyT0sTDe8pS"
      },
      "execution_count": 6,
      "outputs": []
    },
    {
      "cell_type": "code",
      "source": [
        "system_prompt = \"\"\"You are an expert meeting‐minutes assistant. When given a raw audio transcription, your task is to\n",
        "produce concise, well‐structured meeting minutes that include:\n",
        "1. Meeting details (date, time, attendees, if mentioned)\n",
        "2. Agenda items discussed\n",
        "3. Key decisions made\n",
        "4. Action items (with owners and due dates, if mentioned)\n",
        "5. Any open questions or follow-up items\n",
        "Preserve all factual content; do not add information not present in the transcript. Respond in Markdown.\n",
        "\"\"\"\n",
        "\n",
        "\n",
        "user_prompt = \"Please generate meeting minutes from the following transcript and respond in markdown:\\n \" + transcribe(audio_filename)"
      ],
      "metadata": {
        "id": "jEJnUERFJ4sC"
      },
      "execution_count": 14,
      "outputs": []
    },
    {
      "cell_type": "code",
      "source": [
        "messages = [\n",
        "    {\"role\": \"system\", \"content\": system_prompt},\n",
        "    {\"role\": \"user\", \"content\": user_prompt}\n",
        "]"
      ],
      "metadata": {
        "id": "gTfQfrowLUJ1"
      },
      "execution_count": 15,
      "outputs": []
    },
    {
      "cell_type": "code",
      "source": [
        "LLAMA = \"meta-llama/Llama-3.1-8B-Instruct\""
      ],
      "metadata": {
        "id": "LUmwJJYzMNh4"
      },
      "execution_count": 16,
      "outputs": []
    },
    {
      "cell_type": "code",
      "source": [
        "quant_config = BitsAndBytesConfig(\n",
        "    load_in_4bit=True,\n",
        "    bnb_4bit_use_double_quant=True,\n",
        "    bnb_4bit_quant_type=\"nf4\",\n",
        "    bnb_4bit_compute_dtype=torch.bfloat16\n",
        ")"
      ],
      "metadata": {
        "id": "nVkuRI8kM-w7"
      },
      "execution_count": 17,
      "outputs": []
    },
    {
      "cell_type": "code",
      "source": [
        "def generate_response():\n",
        "    tokenizer = AutoTokenizer.from_pretrained(LLAMA)\n",
        "    tokenizer.pad_token = tokenizer.eos_token\n",
        "    prompt = tokenizer.apply_chat_template(messages, tokenize=False)\n",
        "\n",
        "    inputs = tokenizer(prompt, return_tensors=\"pt\").to(device)\n",
        "    model = AutoModelForCausalLM.from_pretrained(\n",
        "        LLAMA,\n",
        "        device_map=\"auto\",\n",
        "        quantization_config=quant_config\n",
        "    )\n",
        "    # Generate output (non-streamed, since we want to post-process it)\n",
        "    outputs = model.generate(\n",
        "        input_ids=inputs[\"input_ids\"],\n",
        "        attention_mask=inputs[\"attention_mask\"],\n",
        "        max_new_tokens=2000,\n",
        "        pad_token_id=tokenizer.eos_token_id,\n",
        "    )\n",
        "    # Slice off the input to get only the newly generated part\n",
        "    new_tokens = outputs[0][inputs[\"input_ids\"].shape[-1]:]\n",
        "    response = tokenizer.decode(new_tokens, skip_special_tokens=True)\n",
        "    clean_response = response.strip()\n",
        "    display(Markdown(clean_response))\n",
        "\n",
        "    del inputs, outputs, model, tokenizer\n",
        "    torch.cuda.empty_cache()\n"
      ],
      "metadata": {
        "id": "dFD_9_5HMCzQ"
      },
      "execution_count": 18,
      "outputs": []
    },
    {
      "cell_type": "code",
      "source": [
        "generate_response()"
      ],
      "metadata": {
        "id": "Tj2uDIT9OVAz",
        "colab": {
          "base_uri": "https://localhost:8080/",
          "height": 567,
          "referenced_widgets": [
            "6e2ff4d248b741799de8f1bc8b9f7026",
            "7ab086eb87ef4e80b366e181e11f6562",
            "0dc59c8c01814db6bf9fb3494e5e812a",
            "d7f3882e2c0a4380a21af11132a6e34e",
            "7a6ec13db6f346968ea681f8f1364123",
            "17c31d8ec63241bbb9d9d8315f0f1a69",
            "9f55d1a7e42c41cda2f6586cc61aa098",
            "b68d142f9a7a40ef9fb6f6a2bea3a7a4",
            "79384a9dcd65477ea712d750e1e5d9b3",
            "89440a0dc0d64948b41ff92fb35fdec7",
            "818dab53411f47c592d7b16e4f317ad5"
          ]
        },
        "outputId": "f41ca9b8-8b10-49d9-b9c3-3ace2421c36f"
      },
      "execution_count": 19,
      "outputs": [
        {
          "output_type": "display_data",
          "data": {
            "text/plain": [
              "Loading checkpoint shards:   0%|          | 0/4 [00:00<?, ?it/s]"
            ],
            "application/vnd.jupyter.widget-view+json": {
              "version_major": 2,
              "version_minor": 0,
              "model_id": "6e2ff4d248b741799de8f1bc8b9f7026"
            }
          },
          "metadata": {}
        },
        {
          "output_type": "display_data",
          "data": {
            "text/plain": [
              "<IPython.core.display.Markdown object>"
            ],
            "text/markdown": "assistant\n\n**Meeting Details**\n* Date: October 9th\n* Time: Not specified\n* Attendees: Councilman Lopez, Councilman Clark, Councilwoman Ortega, Councilwoman Kinneach, Clerk, and other council members (11 present)\n\n**Agenda Items Discussed**\n\n* Approval of the minutes of the previous meeting (October 2nd)\n* Council announcements\n* Presentations\n* Communications\n* Proclamation 1127, an observance of the annual Indigenous Peoples Day in the City and County of Denver\n\n**Key Decisions Made**\n\n* Proclamation 1127, Series of 2017, an observance of the second annual Indigenous Peoples Day in the City and County of Denver, was adopted by the council.\n\n**Action Items**\n\n* None mentioned\n\n**Open Questions or Follow-up Items**\n\n* None mentioned\n\n**Additional Notes**\n\n* The council recognized the contributions of Indigenous people to the city's history, present, and future, and promoted the education of the Denver community about these historical and contemporary contributions.\n* The proclamation was celebrated as a day of inclusivity and respect for all cultures, especially in a time of divisiveness.\n* Councilman Lopez mentioned the importance of being proud of one's own culture without disrespecting others, quoting Cesar Chavez.\n* Councilwoman Kinneach highlighted the importance of cultural preservation and environmental protection, mentioning the Native American community's efforts to defend public lands."
          },
          "metadata": {}
        }
      ]
    },
    {
      "cell_type": "code",
      "source": [],
      "metadata": {
        "id": "PHmRoeEVMydm"
      },
      "execution_count": 12,
      "outputs": []
    }
  ]
}