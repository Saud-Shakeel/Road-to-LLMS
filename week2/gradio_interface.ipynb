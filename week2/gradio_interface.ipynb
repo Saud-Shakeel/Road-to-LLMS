{
 "cells": [
  {
   "cell_type": "code",
   "execution_count": null,
   "id": "e9c1dc96",
   "metadata": {},
   "outputs": [],
   "source": [
    "import os \n",
    "import anthropic\n",
    "import google.generativeai\n",
    "from openai import OpenAI\n",
    "from IPython.display import display, Markdown, update_display\n",
    "from dotenv import load_dotenv\n",
    "import gradio as gr"
   ]
  },
  {
   "cell_type": "code",
   "execution_count": null,
   "id": "068837bc",
   "metadata": {},
   "outputs": [],
   "source": [
    "load_dotenv(override=True)\n",
    "openai_api_key = os.getenv('OPENAI_API_KEY')\n",
    "anthropic_api_key = os.getenv('ANTHROPIC_API_KEY')\n",
    "google_api_key = os.getenv('GOOGLE_API_KEY')\n",
    "\n",
    "if openai_api_key:\n",
    "    print(f\"OpenAI API Key exists and begins {openai_api_key[:8]}\")\n",
    "else:\n",
    "    print(\"OpenAI API Key not set\")\n",
    "    \n",
    "if anthropic_api_key:\n",
    "    print(f\"Anthropic API Key exists and begins {anthropic_api_key[:7]}\")\n",
    "else:\n",
    "    print(\"Anthropic API Key not set\")\n",
    "\n",
    "if google_api_key:\n",
    "    print(f\"Google API Key exists and begins {google_api_key[:8]}\")\n",
    "else:\n",
    "    print(\"Google API Key not set\")"
   ]
  },
  {
   "cell_type": "code",
   "execution_count": null,
   "id": "4d539806",
   "metadata": {},
   "outputs": [],
   "source": [
    "openai = OpenAI()\n",
    "claude = anthropic.Anthropic()\n",
    "gemini = google.generativeai.configure()"
   ]
  },
  {
   "cell_type": "code",
   "execution_count": null,
   "id": "dee91531",
   "metadata": {},
   "outputs": [],
   "source": [
    "system_prompt = \"You are a helpful assistant\"\n",
    "\n",
    "def get_response_from_llm(user_prompt, model):\n",
    "    MESSAGES = [\n",
    "        {'role': 'system', 'content': system_prompt},\n",
    "        {'role': 'user', 'content': user_prompt}\n",
    "    ]\n",
    "\n",
    "    response = openai.chat.completions.create(\n",
    "        model = 'gpt-4o-mini',                  \n",
    "        messages = MESSAGES,\n",
    "        temperature = 0.4\n",
    "    )\n",
    "    return response.choices[0].message.content"
   ]
  },
  {
   "cell_type": "code",
   "execution_count": null,
   "id": "cd2cacc7",
   "metadata": {},
   "outputs": [],
   "source": [
    "view = gr.Interface(fn = get_response_from_llm, inputs = 'textbox', outputs = 'textbox')\n",
    "view.launch()"
   ]
  },
  {
   "cell_type": "code",
   "execution_count": null,
   "id": "ab4de0fb",
   "metadata": {},
   "outputs": [],
   "source": [
    "view = gr.Interface(fn = get_response_from_llm, inputs = 'textbox', outputs = 'textbox', \n",
    "    allow_flagging= 'never')\n",
    "view.launch(share=True)"
   ]
  },
  {
   "cell_type": "code",
   "execution_count": null,
   "id": "bc9e156b",
   "metadata": {},
   "outputs": [],
   "source": [
    "def get_stream_response_from_gpt(user_prompt):\n",
    "    MESSAGES = [\n",
    "        {'role': 'system', 'content': system_prompt},\n",
    "        {'role': 'user', 'content': user_prompt}\n",
    "    ]\n",
    "    response = openai.chat.completions.create(\n",
    "        model = 'gpt-4o-mini',\n",
    "        messages = MESSAGES,\n",
    "        temperature = 0.4,\n",
    "        stream = True\n",
    "    )\n",
    "    result = ''\n",
    "    for chunk in response:\n",
    "        result += chunk.choices[0].delta.content or ''\n",
    "        yield result"
   ]
  },
  {
   "cell_type": "code",
   "execution_count": null,
   "id": "5e967d1c",
   "metadata": {},
   "outputs": [],
   "source": [
    "def get_stream_response_from_claude(user_prompt):\n",
    "    MESSAGES = [\n",
    "        {'role': 'user', 'content': user_prompt}\n",
    "    ]\n",
    "    response = claude.messages.stream(\n",
    "        model = 'gpt-4o-mini',\n",
    "        messages = MESSAGES,\n",
    "        temperature = 0.4,\n",
    "        system= system_prompt\n",
    "    )\n",
    "    result = ''\n",
    "    with response as stream:\n",
    "        for chunk in stream.text_stream:\n",
    "            result += chunk or ''\n",
    "            yield result\n",
    "           \n",
    "         "
   ]
  },
  {
   "cell_type": "code",
   "execution_count": null,
   "id": "6b2158cc",
   "metadata": {},
   "outputs": [],
   "source": [
    "def response_from_streaming_model(user_prompt, model):\n",
    "    if model == 'GPT':\n",
    "        response = get_stream_response_from_gpt(user_prompt)\n",
    "    elif model == 'Claude':\n",
    "        response = get_stream_response_from_claude(user_prompt)\n",
    "    else:\n",
    "        raise ValueError('Invalid Model')\n",
    "    yield from response"
   ]
  },
  {
   "cell_type": "code",
   "execution_count": null,
   "id": "5e9de13b",
   "metadata": {},
   "outputs": [],
   "source": [
    "view = gr.Interface(\n",
    "    fn = response_from_streaming_model,\n",
    "    inputs = [gr.Textbox(label='Your Message:'),\n",
    "            gr.Dropdown(['GPT', 'Claude'], label='Select Model')],\n",
    "    outputs = gr.Markdown(label='Response:'),\n",
    "    allow_flagging = 'never'\n",
    ")\n",
    "view.launch()"
   ]
  },
  {
   "cell_type": "code",
   "execution_count": null,
   "id": "d7ffbd3c",
   "metadata": {},
   "outputs": [],
   "source": []
  }
 ],
 "metadata": {
  "kernelspec": {
   "display_name": "venv",
   "language": "python",
   "name": "python3"
  },
  "language_info": {
   "codemirror_mode": {
    "name": "ipython",
    "version": 3
   },
   "file_extension": ".py",
   "mimetype": "text/x-python",
   "name": "python",
   "nbconvert_exporter": "python",
   "pygments_lexer": "ipython3",
   "version": "3.9.6"
  }
 },
 "nbformat": 4,
 "nbformat_minor": 5
}
