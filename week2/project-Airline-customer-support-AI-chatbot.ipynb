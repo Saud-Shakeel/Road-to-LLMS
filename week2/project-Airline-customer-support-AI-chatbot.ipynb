{
 "cells": [
  {
   "cell_type": "code",
   "execution_count": 1,
   "id": "403b237c",
   "metadata": {},
   "outputs": [
    {
     "name": "stderr",
     "output_type": "stream",
     "text": [
      "/Users/saud/Desktop/LLM_Projects/venv/lib/python3.9/site-packages/urllib3/__init__.py:35: NotOpenSSLWarning: urllib3 v2 only supports OpenSSL 1.1.1+, currently the 'ssl' module is compiled with 'LibreSSL 2.8.3'. See: https://github.com/urllib3/urllib3/issues/3020\n",
      "  warnings.warn(\n"
     ]
    }
   ],
   "source": [
    "import os \n",
    "from openai import OpenAI\n",
    "from dotenv import load_dotenv\n",
    "import gradio as gr\n",
    "import json"
   ]
  },
  {
   "cell_type": "code",
   "execution_count": 2,
   "id": "d41794b2",
   "metadata": {},
   "outputs": [
    {
     "name": "stdout",
     "output_type": "stream",
     "text": [
      "API Key exists, good to go\n"
     ]
    }
   ],
   "source": [
    "load_dotenv()\n",
    "openai_api_key = os.getenv('OPENAI_API_KEY')\n",
    "\n",
    "if openai_api_key and openai_api_key.startswith('sk-proj-'):\n",
    "    print('API Key exists, good to go')\n",
    "else:\n",
    "    print('API Key doesnt exist, troubleshoot the problem!')"
   ]
  },
  {
   "cell_type": "code",
   "execution_count": 3,
   "id": "696e4765",
   "metadata": {},
   "outputs": [],
   "source": [
    "openai = OpenAI()\n",
    "MODEL = 'gpt-4o-mini'\n",
    "\n",
    "system_prompt =  \"You are a helpful assistant for an Airline called FlighAI. \"\n",
    "system_prompt += \"Give short, courteous answers, not more than 1 sentence. \"\n",
    "system_prompt += \"Always be accurate. If you don't know the answer, say so.\"\n"
   ]
  },
  {
   "cell_type": "code",
   "execution_count": 4,
   "id": "4b5dcb53",
   "metadata": {},
   "outputs": [],
   "source": [
    "def get_ticket_prices(destination_city):\n",
    "    ticket_prices = {'tokyo': '1499', 'paris': '599', 'sydney': '499', 'berlin': '799'}\n",
    "    city = destination_city.lower()\n",
    "    return ticket_prices.get(city, 'Unknown')"
   ]
  },
  {
   "cell_type": "code",
   "execution_count": 5,
   "id": "1132d094",
   "metadata": {},
   "outputs": [],
   "source": [
    "price_tool_function = {\n",
    "    \"name\": \"get_ticket_prices\",\n",
    "    \"description\": \"Get the price of a return ticket to the destination city. Call this whenever you need to know the ticket price, for example when a customer asks 'How much is a ticket to this city'\",\n",
    "    \"parameters\": {\n",
    "        \"type\": \"object\",\n",
    "        \"properties\": {\n",
    "            \"destination_city\": {\n",
    "                \"type\": \"string\",\n",
    "                \"description\": \"The city that the customer wants to travel to.\"\n",
    "            },\n",
    "        },\n",
    "        \"required\": [\"destination_city\"],\n",
    "        \"additionalProperties\": False\n",
    "    }\n",
    "}"
   ]
  },
  {
   "cell_type": "code",
   "execution_count": 6,
   "id": "339c4282",
   "metadata": {},
   "outputs": [],
   "source": [
    "tool = [{'type': 'function', 'function': price_tool_function}]"
   ]
  },
  {
   "cell_type": "code",
   "execution_count": 7,
   "id": "c824fe33",
   "metadata": {},
   "outputs": [],
   "source": [
    "def handle_tool_call(assistant_message):\n",
    "    tool_call = assistant_message.tool_calls[0]\n",
    "    arguments = json.loads(tool_call.function.arguments)\n",
    "    city = arguments.get('destination_city')\n",
    "    price = get_ticket_prices(city)\n",
    "    tool_response = {\n",
    "        'role': 'tool',\n",
    "        'content': json.dumps({\"destination_city\": city, \"price\": price}),\n",
    "        'tool_call_id': tool_call.id\n",
    "    }\n",
    "    return tool_response, city"
   ]
  },
  {
   "cell_type": "code",
   "execution_count": 10,
   "id": "0395be26",
   "metadata": {},
   "outputs": [],
   "source": [
    "def airline_customer_support_agent(user_prompt, history):\n",
    "    messages = [{'role': 'system', 'content': system_prompt}] + history + [{'role': 'user', 'content': user_prompt}]\n",
    "    response = openai.chat.completions.create(\n",
    "        model= MODEL,\n",
    "        messages= messages,\n",
    "        temperature= 0.5,\n",
    "        tools= tool\n",
    "    )\n",
    "    print('History is:')\n",
    "    print(history)\n",
    "    print('And message is:')\n",
    "    print(messages)\n",
    "\n",
    "    if response.choices[0].finish_reason == 'tool_calls':\n",
    "        assistant_response = response.choices[0].message\n",
    "        tool_response,city = handle_tool_call(assistant_response)\n",
    "        messages.append(assistant_response)\n",
    "        print('after appending the assistant response: ')\n",
    "        print(messages)\n",
    "        messages.append(tool_response)\n",
    "        print('after appending the tool response: ')\n",
    "        print(messages)\n",
    "        response = openai.chat.completions.create(model=MODEL, messages=messages)\n",
    "\n",
    "    \n",
    "    return response.choices[0].message.content"
   ]
  },
  {
   "cell_type": "code",
   "execution_count": 11,
   "id": "738f124a",
   "metadata": {},
   "outputs": [
    {
     "name": "stdout",
     "output_type": "stream",
     "text": [
      "Running on local URL:  http://127.0.0.1:7861\n",
      "\n",
      "To create a public link, set `share=True` in `launch()`.\n"
     ]
    },
    {
     "data": {
      "text/html": [
       "<div><iframe src=\"http://127.0.0.1:7861/\" width=\"100%\" height=\"500\" allow=\"autoplay; camera; microphone; clipboard-read; clipboard-write;\" frameborder=\"0\" allowfullscreen></iframe></div>"
      ],
      "text/plain": [
       "<IPython.core.display.HTML object>"
      ]
     },
     "metadata": {},
     "output_type": "display_data"
    },
    {
     "data": {
      "text/plain": []
     },
     "execution_count": 11,
     "metadata": {},
     "output_type": "execute_result"
    },
    {
     "name": "stdout",
     "output_type": "stream",
     "text": [
      "History is:\n",
      "[]\n",
      "And message is:\n",
      "[{'role': 'system', 'content': \"You are a helpful assistant for an Airline called FlighAI. Give short, courteous answers, not more than 1 sentence. Always be accurate. If you don't know the answer, say so.\"}, {'role': 'user', 'content': 'Hi'}]\n",
      "History is:\n",
      "[{'role': 'user', 'metadata': {'title': None}, 'content': 'Hi'}, {'role': 'assistant', 'metadata': {'title': None}, 'content': 'Hello! How can I assist you today?'}]\n",
      "And message is:\n",
      "[{'role': 'system', 'content': \"You are a helpful assistant for an Airline called FlighAI. Give short, courteous answers, not more than 1 sentence. Always be accurate. If you don't know the answer, say so.\"}, {'role': 'user', 'metadata': {'title': None}, 'content': 'Hi'}, {'role': 'assistant', 'metadata': {'title': None}, 'content': 'Hello! How can I assist you today?'}, {'role': 'user', 'content': 'what is price of a return ticket?'}]\n",
      "History is:\n",
      "[{'role': 'user', 'metadata': {'title': None}, 'content': 'Hi'}, {'role': 'assistant', 'metadata': {'title': None}, 'content': 'Hello! How can I assist you today?'}, {'role': 'user', 'metadata': {'title': None}, 'content': 'what is price of a return ticket?'}, {'role': 'assistant', 'metadata': {'title': None}, 'content': 'Could you please provide the destination city for the ticket?'}]\n",
      "And message is:\n",
      "[{'role': 'system', 'content': \"You are a helpful assistant for an Airline called FlighAI. Give short, courteous answers, not more than 1 sentence. Always be accurate. If you don't know the answer, say so.\"}, {'role': 'user', 'metadata': {'title': None}, 'content': 'Hi'}, {'role': 'assistant', 'metadata': {'title': None}, 'content': 'Hello! How can I assist you today?'}, {'role': 'user', 'metadata': {'title': None}, 'content': 'what is price of a return ticket?'}, {'role': 'assistant', 'metadata': {'title': None}, 'content': 'Could you please provide the destination city for the ticket?'}, {'role': 'user', 'content': 'Berlin'}]\n",
      "after appending the assistant response: \n",
      "[{'role': 'system', 'content': \"You are a helpful assistant for an Airline called FlighAI. Give short, courteous answers, not more than 1 sentence. Always be accurate. If you don't know the answer, say so.\"}, {'role': 'user', 'metadata': {'title': None}, 'content': 'Hi'}, {'role': 'assistant', 'metadata': {'title': None}, 'content': 'Hello! How can I assist you today?'}, {'role': 'user', 'metadata': {'title': None}, 'content': 'what is price of a return ticket?'}, {'role': 'assistant', 'metadata': {'title': None}, 'content': 'Could you please provide the destination city for the ticket?'}, {'role': 'user', 'content': 'Berlin'}, ChatCompletionMessage(content=None, refusal=None, role='assistant', annotations=[], audio=None, function_call=None, tool_calls=[ChatCompletionMessageToolCall(id='call_oQxOgtevaUY3LmYAhZJ14cRV', function=Function(arguments='{\"destination_city\":\"Berlin\"}', name='get_ticket_prices'), type='function')])]\n",
      "after appending the tool response: \n",
      "[{'role': 'system', 'content': \"You are a helpful assistant for an Airline called FlighAI. Give short, courteous answers, not more than 1 sentence. Always be accurate. If you don't know the answer, say so.\"}, {'role': 'user', 'metadata': {'title': None}, 'content': 'Hi'}, {'role': 'assistant', 'metadata': {'title': None}, 'content': 'Hello! How can I assist you today?'}, {'role': 'user', 'metadata': {'title': None}, 'content': 'what is price of a return ticket?'}, {'role': 'assistant', 'metadata': {'title': None}, 'content': 'Could you please provide the destination city for the ticket?'}, {'role': 'user', 'content': 'Berlin'}, ChatCompletionMessage(content=None, refusal=None, role='assistant', annotations=[], audio=None, function_call=None, tool_calls=[ChatCompletionMessageToolCall(id='call_oQxOgtevaUY3LmYAhZJ14cRV', function=Function(arguments='{\"destination_city\":\"Berlin\"}', name='get_ticket_prices'), type='function')]), {'role': 'tool', 'content': '{\"destination_city\": \"Berlin\", \"price\": \"799\"}', 'tool_call_id': 'call_oQxOgtevaUY3LmYAhZJ14cRV'}]\n"
     ]
    }
   ],
   "source": [
    "gr.ChatInterface(fn= airline_customer_support_agent, type= 'messages').launch()"
   ]
  },
  {
   "cell_type": "code",
   "execution_count": null,
   "id": "1bf93f9f",
   "metadata": {},
   "outputs": [],
   "source": []
  }
 ],
 "metadata": {
  "kernelspec": {
   "display_name": "venv",
   "language": "python",
   "name": "python3"
  },
  "language_info": {
   "codemirror_mode": {
    "name": "ipython",
    "version": 3
   },
   "file_extension": ".py",
   "mimetype": "text/x-python",
   "name": "python",
   "nbconvert_exporter": "python",
   "pygments_lexer": "ipython3",
   "version": "3.9.6"
  }
 },
 "nbformat": 4,
 "nbformat_minor": 5
}
