{
 "cells": [
  {
   "cell_type": "markdown",
   "id": "b83d0d9f",
   "metadata": {},
   "source": [
    "## Import important libraries"
   ]
  },
  {
   "cell_type": "code",
   "execution_count": null,
   "id": "c216476b",
   "metadata": {},
   "outputs": [],
   "source": [
    "import os \n",
    "import requests\n",
    "from openai import OpenAI\n",
    "from IPython.display import update_display, Markdown, display\n",
    "import json\n",
    "from bs4 import BeautifulSoup\n",
    "from typing import List\n",
    "from dotenv import load_dotenv"
   ]
  },
  {
   "cell_type": "code",
   "execution_count": null,
   "id": "a01dde8e",
   "metadata": {},
   "outputs": [],
   "source": [
    "load_dotenv()\n",
    "api_key = os.getenv('OPENAI_API_KEY')\n",
    "\n",
    "if api_key and api_key.startswith('sk-proj-') and len(api_key)>10:\n",
    "    print(\"API key looks good so far\")\n",
    "else:\n",
    "    print(\"There might be a problem with your API key? Please visit the troubleshooting notebook!\")\n",
    "    \n",
    "\n",
    "headers = {\n",
    " \"User-Agent\": \"Mozilla/5.0 (Windows NT 10.0; Win64; x64) AppleWebKit/537.36 (KHTML, like Gecko) Chrome/117.0.0.0 Safari/537.36\"\n",
    "}"
   ]
  },
  {
   "cell_type": "code",
   "execution_count": null,
   "id": "40675691",
   "metadata": {},
   "outputs": [],
   "source": [
    "class Website:\n",
    "    text:str\n",
    "    links: List\n",
    "    body: str\n",
    "    title: str\n",
    "    url: str\n",
    "\n",
    "    def __init__(self, url):\n",
    "        self.url = url\n",
    "        response = requests.get(url, headers=headers)\n",
    "        self.body = response.content\n",
    "        soup = BeautifulSoup(self.body, 'html.parser')\n",
    "        self.title = soup.title.string if soup.title else 'No title Found'\n",
    "        if soup.body:\n",
    "            for irrelevant in soup.body([\"script\", \"style\", \"img\", \"input\"]):\n",
    "                irrelevant.decompose()\n",
    "            self.text = soup.body.get_text(separator='\\n', strip=True)\n",
    "        else:\n",
    "            self.text = ' '\n",
    "        links = [link.get('href') for link in soup.find_all('a')]\n",
    "        self.links = [link for link in links if link]\n",
    "    \n",
    "    def get_content(self):\n",
    "        return f\" Webpage Title:\\n{self.title}\\nWebpage Contents:\\n{self.text}\\n\\n\""
   ]
  },
  {
   "cell_type": "code",
   "execution_count": null,
   "id": "f94e0698",
   "metadata": {},
   "outputs": [],
   "source": [
    "system_prompt = \"You are provided with a list of links found on a webpage. \\\n",
    "You are able to decide which of the links would be most relevant to include in a brochure about the company, \\\n",
    "such as links to an About page, or a Company page, or Careers/Jobs pages.\\n\"\n",
    "system_prompt += \"You should respond in JSON as in this example:\"\n",
    "system_prompt += \"\"\"\n",
    "{\n",
    "    \"links\": [\n",
    "        {\"type\": \"about page\", \"url\": \"https://full.url/goes/here/about\"},\n",
    "        {\"type\": \"careers page\": \"url\": \"https://another.full.url/careers\"}\n",
    "    ]\n",
    "}\n",
    "\"\"\"\n",
    "\n",
    "\n",
    "def get_links_user_prompt(website):\n",
    "    user_prompt = f\"Here is the list of links on the website of {website.url} - \"\n",
    "    user_prompt += \"please decide which of these are relevant web links for a brochure about the company, respond with the full https URL in JSON format. \\\n",
    "    Do not include Terms of Service, Privacy, email links.\\n\"\n",
    "    user_prompt += \"Links (some might be relative links):\\n\"\n",
    "    user_prompt += \"\\n\".join(website.links)\n",
    "    return user_prompt"
   ]
  },
  {
   "cell_type": "code",
   "execution_count": null,
   "id": "b4763fca",
   "metadata": {},
   "outputs": [],
   "source": [
    "MODEL = 'gpt-4o-mini'\n",
    "openai = OpenAI()"
   ]
  },
  {
   "cell_type": "code",
   "execution_count": null,
   "id": "3c97d7b3",
   "metadata": {},
   "outputs": [],
   "source": [
    "def get_links(url):\n",
    "    website = Website(url)\n",
    "    response = openai.chat.completions.create(\n",
    "        model = MODEL,\n",
    "        messages = [\n",
    "            {'role':'system', 'content':system_prompt},\n",
    "            {'role':'user', 'content': get_links_user_prompt(website)}\n",
    "        ],\n",
    "        response_format= {'type': 'json_object'}\n",
    "    )\n",
    "    result = response.choices[0].message.content\n",
    "    return json.loads(result)"
   ]
  },
  {
   "cell_type": "code",
   "execution_count": null,
   "id": "77ecd82f",
   "metadata": {},
   "outputs": [],
   "source": [
    "url = 'https://www.wikipedia.org/'\n",
    "web = Website(url)"
   ]
  },
  {
   "cell_type": "code",
   "execution_count": null,
   "id": "7932732b",
   "metadata": {},
   "outputs": [],
   "source": [
    "get_links(url)"
   ]
  },
  {
   "cell_type": "code",
   "execution_count": null,
   "id": "124880ce",
   "metadata": {},
   "outputs": [],
   "source": [
    "def get_all_details(url):\n",
    "    result = f\"Landing Page:\\n\"\n",
    "    result += Website(url).get_content()\n",
    "    links = get_links(url)\n",
    "    for link in links['links']:\n",
    "        result += f\"\\n\\n{link['type']}\\n\"\n",
    "        result += f\"{Website(link['url']).get_content()}\\n\"\n",
    "    return result"
   ]
  },
  {
   "cell_type": "code",
   "execution_count": null,
   "id": "086762d8",
   "metadata": {},
   "outputs": [],
   "source": [
    "brochure_system_prompt = \"You are an assistant that analyzes the contents of several relevant pages from a company website \\\n",
    "and creates a short brochure about the company for prospective customers, investors and recruits. Respond in markdown.\\\n",
    "Include details of company culture, customers and careers/jobs if you have the information.\"\n",
    "\n",
    "def get_brochure_user_prompt(company_name, url):\n",
    "    user_prompt = f\"You are looking at a company called: {company_name}\\n\"\n",
    "    user_prompt += f\"Here are the contents of its landing page and other relevant pages; use this information to build a short brochure of the company in markdown.\\n\"\n",
    "    user_prompt += get_all_details(url)\n",
    "    user_prompt = user_prompt[:5_000] # Truncate if more than 5,000 characters\n",
    "    return user_prompt"
   ]
  },
  {
   "cell_type": "code",
   "execution_count": null,
   "id": "3ddab3e0",
   "metadata": {},
   "outputs": [],
   "source": [
    "print(get_all_details(url))"
   ]
  },
  {
   "cell_type": "code",
   "execution_count": null,
   "id": "3870e726",
   "metadata": {},
   "outputs": [],
   "source": [
    "def create_brochure(company_name, url):\n",
    "    stream = openai.chat.completions.create(\n",
    "        model=MODEL,\n",
    "        messages=[\n",
    "            {'role': 'system', 'content': brochure_system_prompt},\n",
    "            {'role': 'user', 'content': get_brochure_user_prompt(company_name, url)}\n",
    "        ],\n",
    "        stream=True\n",
    "    )\n",
    "    response = ''\n",
    "    display_handle = display(Markdown(' '), display_id=True)\n",
    "    for chunk in stream:\n",
    "        response += chunk.choices[0].delta.content or ' '\n",
    "        response_cleaned = response.replace(\"```\", ' ').replace(\"markdown\", ' ')\n",
    "        update_display(Markdown(response_cleaned), display_id=display_handle.display_id)\n",
    "\n",
    "    return response_cleaned  \n",
    "\n",
    "\n",
    "# streaming without markdown \n",
    "# for chunk in stream:\n",
    "#   print(chunk.choices[0].delta.content or ' ', end=' ')\n",
    "\n",
    "# Brochure without streaming\n",
    "# def create_brochure(company_name, url):\n",
    "#     response = openai.chat.completions.create(\n",
    "#         model=MODEL,\n",
    "#         messages=[\n",
    "#             {'role':'system', 'content':brochure_system_prompt},\n",
    "#             {'role':'user', 'content':get_brochure_user_prompt(company_name, url)}\n",
    "#         ]\n",
    "#     )\n",
    "#     result = response.choices[0].message.content\n",
    "#     return display(Markdown(result))"
   ]
  },
  {
   "cell_type": "code",
   "execution_count": null,
   "id": "fac03b73",
   "metadata": {},
   "outputs": [],
   "source": [
    "print(create_brochure('Wikipedia', url))"
   ]
  },
  {
   "cell_type": "code",
   "execution_count": null,
   "id": "90458ae7",
   "metadata": {},
   "outputs": [],
   "source": [
    "convert_lang_system_prompt = \"You are a professional translator. You take brochures written in English and \\\n",
    "convert them into Spanish. Return only the Spanish translation in **Markdown** format.\"\n",
    "\n",
    "\n",
    "def get_converted_lang_user_prompt(company_name, brochure):\n",
    "    user_prompt = f\"\"\"You are looking at the brochure of a company called: {company_name}.\\n\n",
    "    Here is the brochure:\\n\n",
    "    {brochure}.\\n\n",
    "    Convert the entire brochure into Spanish. Return only the Spanish version in **Markdown**.\n",
    "    \"\"\"\n",
    "    return user_prompt\n",
    "\n"
   ]
  },
  {
   "cell_type": "code",
   "execution_count": null,
   "id": "6b2e2a69",
   "metadata": {},
   "outputs": [],
   "source": [
    "def get_spanish_text(company_name, url):\n",
    "    english_brochure = create_brochure(company_name, url)\n",
    "    response = openai.chat.completions.create(\n",
    "        model = MODEL,\n",
    "        messages = [\n",
    "            {'role':'system', 'content':convert_lang_system_prompt},\n",
    "            {'role':'user', 'content':get_converted_lang_user_prompt(company_name, english_brochure)}\n",
    "        ]\n",
    "    )\n",
    "    result = response.choices[0].message.content\n",
    "    return display(Markdown(result))\n"
   ]
  },
  {
   "cell_type": "code",
   "execution_count": null,
   "id": "bd483843",
   "metadata": {},
   "outputs": [],
   "source": [
    "print(get_spanish_text('Wikipedia', url))"
   ]
  },
  {
   "cell_type": "code",
   "execution_count": null,
   "id": "7554ceb8",
   "metadata": {},
   "outputs": [],
   "source": []
  }
 ],
 "metadata": {
  "kernelspec": {
   "display_name": "venv",
   "language": "python",
   "name": "python3"
  },
  "language_info": {
   "codemirror_mode": {
    "name": "ipython",
    "version": 3
   },
   "file_extension": ".py",
   "mimetype": "text/x-python",
   "name": "python",
   "nbconvert_exporter": "python",
   "pygments_lexer": "ipython3",
   "version": "3.9.6"
  }
 },
 "nbformat": 4,
 "nbformat_minor": 5
}
