{
 "cells": [
  {
   "cell_type": "code",
   "execution_count": 19,
   "id": "aed66825",
   "metadata": {},
   "outputs": [],
   "source": [
    "import os\n",
    "import requests\n",
    "from openai import OpenAI\n",
    "from bs4 import BeautifulSoup\n",
    "from IPython.display import Markdown, display, update_display\n",
    "from typing import List\n",
    "from dotenv import load_dotenv\n",
    "import json"
   ]
  },
  {
   "cell_type": "code",
   "execution_count": 2,
   "id": "5d6c28bf",
   "metadata": {},
   "outputs": [
    {
     "name": "stdout",
     "output_type": "stream",
     "text": [
      "API key looks good so far\n"
     ]
    }
   ],
   "source": [
    "load_dotenv()\n",
    "api_key = os.getenv('OPENAI_API_KEY')\n",
    "\n",
    "if api_key and api_key.startswith('sk-proj-') and len(api_key)>10:\n",
    "    print(\"API key looks good so far\")\n",
    "else:\n",
    "    print(\"There might be a problem with your API key? Please visit the troubleshooting notebook!\")\n",
    "    \n",
    "\n",
    "headers = {\n",
    " \"User-Agent\": \"Mozilla/5.0 (Windows NT 10.0; Win64; x64) AppleWebKit/537.36 (KHTML, like Gecko) Chrome/117.0.0.0 Safari/537.36\"\n",
    "}"
   ]
  },
  {
   "cell_type": "code",
   "execution_count": 3,
   "id": "aab77465",
   "metadata": {},
   "outputs": [],
   "source": [
    "MODEL = 'gpt-4o-mini'\n",
    "openai = OpenAI()"
   ]
  },
  {
   "cell_type": "code",
   "execution_count": 4,
   "id": "3d39a66a",
   "metadata": {},
   "outputs": [],
   "source": [
    "class Website:\n",
    "    text: str\n",
    "    links: List\n",
    "    title: str\n",
    "    url: str\n",
    "    body: str\n",
    "\n",
    "\n",
    "    def __init__(self, url):\n",
    "        self.url = url\n",
    "        response = requests.get(url, headers=headers)\n",
    "        self.body = response.content\n",
    "        soup = BeautifulSoup(self.body, 'html.parser')\n",
    "        self.title = soup.title.string if soup.title else \"No title found\"\n",
    "        if soup.body:\n",
    "            for irrelevant in soup.body([\"script\", \"style\", \"img\", \"input\"]):\n",
    "                irrelevant.decompose()\n",
    "            self.text = soup.body.get_text(separator=\"\\n\", strip=True)\n",
    "        else:\n",
    "            self.text = ' '\n",
    "        links = [link.get('href') for link in soup.find_all('a')]\n",
    "        self.links = [link for link in links if link]\n",
    "    \n",
    "    def get_contents(self):\n",
    "        return f\"Webpage Title:\\n{self.title}\\nWebpage Contents:\\n{self.text}\\n\\n\""
   ]
  },
  {
   "cell_type": "code",
   "execution_count": 5,
   "id": "271c223c",
   "metadata": {},
   "outputs": [
    {
     "name": "stdout",
     "output_type": "stream",
     "text": [
      "Webpage Title:\n",
      "Home - Edward Donner\n",
      "Webpage Contents:\n",
      "Home\n",
      "Connect Four\n",
      "Outsmart\n",
      "An arena that pits LLMs against each other in a battle of diplomacy and deviousness\n",
      "About\n",
      "Posts\n",
      "Well, hi there.\n",
      "I’m Ed. I like writing code and experimenting with LLMs, and hopefully you’re here because you do too. I also enjoy DJing (but I’m badly out of practice), amateur electronic music production (\n",
      "very\n",
      "amateur) and losing myself in\n",
      "Hacker News\n",
      ", nodding my head sagely to things I only half understand.\n",
      "I’m the co-founder and CTO of\n",
      "Nebula.io\n",
      ". We’re applying AI to a field where it can make a massive, positive impact: helping people discover their potential and pursue their reason for being. Recruiters use our product today to source, understand, engage and manage talent. I’m previously the founder and CEO of AI startup untapt,\n",
      "acquired in 2021\n",
      ".\n",
      "We work with groundbreaking, proprietary LLMs verticalized for talent, we’ve\n",
      "patented\n",
      "our matching model, and our award-winning platform has happy customers and tons of press coverage.\n",
      "Connect\n",
      "with me for more!\n",
      "April 21, 2025\n",
      "The Complete Agentic AI Engineering Course\n",
      "January 23, 2025\n",
      "LLM Workshop – Hands-on with Agents – resources\n",
      "December 21, 2024\n",
      "Welcome, SuperDataScientists!\n",
      "November 13, 2024\n",
      "Mastering AI and LLM Engineering – Resources\n",
      "Navigation\n",
      "Home\n",
      "Connect Four\n",
      "Outsmart\n",
      "An arena that pits LLMs against each other in a battle of diplomacy and deviousness\n",
      "About\n",
      "Posts\n",
      "Get in touch\n",
      "ed [at] edwarddonner [dot] com\n",
      "www.edwarddonner.com\n",
      "Follow me\n",
      "LinkedIn\n",
      "Twitter\n",
      "Facebook\n",
      "Subscribe to newsletter\n",
      "Type your email…\n",
      "Subscribe\n",
      "\n",
      "\n"
     ]
    }
   ],
   "source": [
    "url = 'https://edwarddonner.com'\n",
    "web = Website(url)\n",
    "print(web.get_contents())"
   ]
  },
  {
   "cell_type": "code",
   "execution_count": 6,
   "id": "ea6f3bb2",
   "metadata": {},
   "outputs": [],
   "source": [
    "system_prompt = \"You are provided with a list of links found on a webpage. \\\n",
    "You are able to decide which of the links would be most relevant to include in a brochure about the company, \\\n",
    "such as links to an About page, or a Company page, or Careers/Jobs pages.\\n\"\n",
    "system_prompt += \"You should respond in JSON as in this example:\"\n",
    "system_prompt += \"\"\"\n",
    "{\n",
    "    \"links\": [\n",
    "        {\"type\": \"about page\", \"url\": \"https://full.url/goes/here/about\"},\n",
    "        {\"type\": \"careers page\": \"url\": \"https://another.full.url/careers\"}\n",
    "    ]\n",
    "}\n",
    "\"\"\"\n"
   ]
  },
  {
   "cell_type": "code",
   "execution_count": 7,
   "id": "adccb253",
   "metadata": {},
   "outputs": [],
   "source": [
    "def get_links_user_prompt(website):\n",
    "    user_prompt = f\"Here is the list of links on the website of {website.url} - \"\n",
    "    user_prompt += \"please decide which of these are relevant web links for a brochure about the company, respond with the full https URL in JSON format. \\\n",
    "    Do not include Terms of Service, Privacy, email links.\\n\"\n",
    "    user_prompt += \"Links (some might be relative links):\\n\"\n",
    "    user_prompt += \"\\n\".join(website.links)\n",
    "    return user_prompt"
   ]
  },
  {
   "cell_type": "code",
   "execution_count": 8,
   "id": "14ce09fe",
   "metadata": {},
   "outputs": [],
   "source": [
    "def get_links(url):\n",
    "    website = Website(url)\n",
    "    response = openai.chat.completions.create(\n",
    "        model=MODEL,\n",
    "        messages=[\n",
    "            {'role': 'system', 'content': system_prompt},\n",
    "            {'role': 'user', 'content': get_links_user_prompt(website)}\n",
    "        ],\n",
    "        response_format= {'type': 'json_object'}\n",
    "    )\n",
    "    result = response.choices[0].message.content\n",
    "    return json.loads(result)"
   ]
  },
  {
   "cell_type": "code",
   "execution_count": 9,
   "id": "b881d420",
   "metadata": {},
   "outputs": [
    {
     "name": "stdout",
     "output_type": "stream",
     "text": [
      "{'links': [{'type': 'about page', 'url': 'https://edwarddonner.com/about-me-and-about-nebula/'}, {'type': 'linkedin', 'url': 'https://www.linkedin.com/in/eddonner/'}, {'type': 'twitter', 'url': 'https://twitter.com/edwarddonner'}, {'type': 'facebook', 'url': 'https://www.facebook.com/edward.donner.52'}]}\n"
     ]
    }
   ],
   "source": [
    "print(get_links(url))"
   ]
  },
  {
   "cell_type": "code",
   "execution_count": 10,
   "id": "1d65ddf5",
   "metadata": {},
   "outputs": [],
   "source": [
    "def get_all_details(url):\n",
    "    result = f'Landing Page:\\n'\n",
    "    result += Website(url).get_contents()\n",
    "    links = get_links(url)\n",
    "    for link in links['links']:\n",
    "        result += f\"\\n\\n{link['type']}\\n\"\n",
    "        result += f\"{Website(link['url']).get_contents()}\\n\"\n",
    "    return result\n"
   ]
  },
  {
   "cell_type": "code",
   "execution_count": 12,
   "id": "c39a285b",
   "metadata": {},
   "outputs": [
    {
     "name": "stdout",
     "output_type": "stream",
     "text": [
      "Landing Page:\n",
      "Webpage Title:\n",
      "Home - Edward Donner\n",
      "Webpage Contents:\n",
      "Home\n",
      "Connect Four\n",
      "Outsmart\n",
      "An arena that pits LLMs against each other in a battle of diplomacy and deviousness\n",
      "About\n",
      "Posts\n",
      "Well, hi there.\n",
      "I’m Ed. I like writing code and experimenting with LLMs, and hopefully you’re here because you do too. I also enjoy DJing (but I’m badly out of practice), amateur electronic music production (\n",
      "very\n",
      "amateur) and losing myself in\n",
      "Hacker News\n",
      ", nodding my head sagely to things I only half understand.\n",
      "I’m the co-founder and CTO of\n",
      "Nebula.io\n",
      ". We’re applying AI to a field where it can make a massive, positive impact: helping people discover their potential and pursue their reason for being. Recruiters use our product today to source, understand, engage and manage talent. I’m previously the founder and CEO of AI startup untapt,\n",
      "acquired in 2021\n",
      ".\n",
      "We work with groundbreaking, proprietary LLMs verticalized for talent, we’ve\n",
      "patented\n",
      "our matching model, and our award-winning platform has happy customers and tons of press coverage.\n",
      "Connect\n",
      "with me for more!\n",
      "April 21, 2025\n",
      "The Complete Agentic AI Engineering Course\n",
      "January 23, 2025\n",
      "LLM Workshop – Hands-on with Agents – resources\n",
      "December 21, 2024\n",
      "Welcome, SuperDataScientists!\n",
      "November 13, 2024\n",
      "Mastering AI and LLM Engineering – Resources\n",
      "Navigation\n",
      "Home\n",
      "Connect Four\n",
      "Outsmart\n",
      "An arena that pits LLMs against each other in a battle of diplomacy and deviousness\n",
      "About\n",
      "Posts\n",
      "Get in touch\n",
      "ed [at] edwarddonner [dot] com\n",
      "www.edwarddonner.com\n",
      "Follow me\n",
      "LinkedIn\n",
      "Twitter\n",
      "Facebook\n",
      "Subscribe to newsletter\n",
      "Type your email…\n",
      "Subscribe\n",
      "\n",
      "\n",
      "\n",
      "about page\n",
      "Webpage Title:\n",
      "About - Edward Donner\n",
      "Webpage Contents:\n",
      "Home\n",
      "Connect Four\n",
      "Outsmart\n",
      "An arena that pits LLMs against each other in a battle of diplomacy and deviousness\n",
      "About\n",
      "Posts\n",
      "About\n",
      "I’m the co-founder and CTO of\n",
      "Nebula.io\n",
      ". We help recruiters source, understand, engage and manage talent, using Generative AI and other forms of machine learning. Our\n",
      "patented\n",
      "model matches people with roles with greater accuracy and speed than previously imaginable — no keywords required. Take a look for yourself; it’s completely free to try.\n",
      "Our long term goal is to help people discover their potential and pursue their reason for being, motivated by a concept called\n",
      "Ikigai\n",
      ". We help people find roles where they will be most fulfilled and successful; as a result, we will raise the level of human prosperity. It sounds grandiose, but since 77% of people don’t consider themselves\n",
      "inspired or engaged\n",
      "at work, it’s completely within our reach.\n",
      "I sometimes have to pinch myself. I’m incredibly lucky to be working in the field of AI at a time when it’s rewriting the boundaries of human and tech possibilities. I’m personally most drawn to applying AI to real world problems, and the specific problem of hiring has plagued me throughout my career. So I’m in the business of finding people their dream jobs — and conveniently, I’m in my dream job myself.\n",
      "Before Nebula.io\n",
      "You can trace the roots of Nebula.io to an AI startup I founded in 2013 called\n",
      "untapt\n",
      ". We built talent marketplaces and data science software for recruitment firms. To start with, we specialized on tech roles in financial services, where there was a huge supply/demand gap.\n",
      "We were selected to be part of a prestigious accelerator program – the\n",
      "Accenture FinTech Innovation Lab\n",
      "– and we were an\n",
      "American Banker Top 20 Company To Watch\n",
      ". We were covered in\n",
      "Fast Company\n",
      ",\n",
      "Forbes\n",
      "and\n",
      "American Banker\n",
      ", and I was interviewed on the floor of the New York Stock Exchange and Nasdaq:\n",
      "After a 20 year career in Financial Services, the most rewarding thing to me about untapt was that we were tackling\n",
      "tangible real-world problems\n",
      "faced by everyone. I loved that we had billboard ads in train stations and we got to speak to our end-users every day. One of my proudest moments: at an Amazon pitch event to people in tech, we were voted the ‘startup most likely to grow exponentially’.\n",
      "And then, our path to exponential growth was accelerated suddenly and wonderfully. Our top client, recruitment powerhouse GQR, was interested in a deeper partnership. In 2021 untapt was\n",
      "acquired\n",
      "by GQR’s parent company, and shortly afterwards, Nebula.io was born.\n",
      "My request to you\n",
      "My New Year’s Resolution is to do a better job of networking. That’s where you come in. If any of this sounds interesting, please\n",
      "connect with me\n",
      "for a virtual coffee. Or even a real coffee, if you’re in NYC.\n",
      "I have broad expertise that spans software engineering, data science, technology leadership, entrepreneurship, and anything made by Apple. My notable prowess in these areas is only surpassed by my inability to perform anything requiring hand/eye coordination. Do not be fooled by my final pictures: if you’re looking for someone to join your Amazing Race team, or your America’s Got Talent crew, or really anything that requires functioning outdoors.. you probably want anyone but me.\n",
      "Loading Comments...\n",
      "Write a Comment...\n",
      "Email (Required)\n",
      "Name (Required)\n",
      "Website\n",
      "\n",
      "\n",
      "\n"
     ]
    }
   ],
   "source": [
    "print(get_all_details(url))"
   ]
  },
  {
   "cell_type": "code",
   "execution_count": 13,
   "id": "4a42f9a8",
   "metadata": {},
   "outputs": [],
   "source": [
    "brochure_system_prompt = \"You are an assistant that analyzes the contents of several relevant pages from a company website \\\n",
    "and creates a short brochure about the company for prospective customers, investors and recruits. Respond in markdown.\\\n",
    "Include details of company culture, customers and careers/jobs if you have the information.\""
   ]
  },
  {
   "cell_type": "code",
   "execution_count": 14,
   "id": "ff27e252",
   "metadata": {},
   "outputs": [],
   "source": [
    "def get_brochure_user_prompt(company_name, url):\n",
    "    user_prompt = f\"You are looking at a company called: {company_name}\\n\"\n",
    "    user_prompt += f\"Here are the contents of its landing page and other relevant pages; use this information to build a short brochure of the company in markdown.\\n\"\n",
    "    user_prompt += get_all_details(url)\n",
    "    user_prompt = user_prompt[:5_000] # Truncate if more than 5,000 characters\n",
    "    return user_prompt"
   ]
  },
  {
   "cell_type": "code",
   "execution_count": 15,
   "id": "8a1c5ac4",
   "metadata": {},
   "outputs": [],
   "source": [
    "def create_brochure(company_name, url):\n",
    "    response = openai.chat.completions.create(\n",
    "        model=MODEL,\n",
    "        messages=[\n",
    "            {'role':'system', 'content':brochure_system_prompt},\n",
    "            {'role':'user', 'content':get_brochure_user_prompt(company_name, url)}\n",
    "        ]\n",
    "    )\n",
    "    result = response.choices[0].message.content\n",
    "    return display(Markdown(result))"
   ]
  },
  {
   "cell_type": "code",
   "execution_count": 18,
   "id": "f6ecd92e",
   "metadata": {},
   "outputs": [
    {
     "data": {
      "text/markdown": [
       "# Wikipedia Brochure\n",
       "\n",
       "## Welcome to Wikipedia\n",
       "**The Free Encyclopedia**\n",
       "\n",
       "Wikipedia is the world's largest and most diverse online encyclopedia, offering more than 6,974,000 articles in English alone, with millions more in over 300 languages. Our mission is to provide free and accessible knowledge to everyone, everywhere.\n",
       "\n",
       "---\n",
       "\n",
       "## Our Commitment\n",
       "\n",
       "At Wikipedia, we are dedicated to:\n",
       "\n",
       "- **Free Access to Information**: All our articles are accessible for free, ensuring that knowledge is available to all, regardless of geography or status.\n",
       "  \n",
       "- **Diversity**: Our expansive content covers a wide range of topics and languages, promoting inclusivity and understanding across cultures. \n",
       "\n",
       "- **Community-Driven**: Wikipedia is powered by a global community of volunteer editors who create and maintain content, making it a dynamic platform that grows and evolves continuously.\n",
       "\n",
       "---\n",
       "\n",
       "## Company Culture\n",
       "At Wikipedia, our culture is rooted in the principles of openness, collaboration, and respect. We thrive on:\n",
       "\n",
       "- **Volunteering and Contribution**: Our content is created by an ever-growing community of volunteers who contribute their expertise and time to build a comprehensive repository of knowledge.\n",
       "\n",
       "- **Diversity and Inclusivity**: We recognize and celebrate the diversity of our contributors, aiming to represent a multitude of voices and perspectives through our articles.\n",
       "\n",
       "- **Empowering Curiosity**: We foster an environment where curiosity and learning are encouraged and supported through collaborative efforts and shared knowledge.\n",
       "\n",
       "---\n",
       "\n",
       "## Our Customers\n",
       "Wikipedia serves a wide array of users globally, including:\n",
       "\n",
       "- **Students and Researchers**: A reliable source of information for anyone pursuing academic work or personal interests.\n",
       "  \n",
       "- **Professionals and Enthusiasts**: Individuals working in various fields benefit from our exhaustive content to enhance their knowledge and skills.\n",
       "\n",
       "- **Educators**: Teachers and professors utilize Wikipedia as a teaching resource to engage students and encourage deeper research.\n",
       "\n",
       "---\n",
       "\n",
       "## Careers at Wikipedia\n",
       "Joining the Wikipedia community means becoming part of a larger mission to democratize knowledge. W e are always seeking passionate individuals who:\n",
       "\n",
       "- **Share Our Vision**: Are committed to creating a world where information is free and available to all.\n",
       "  \n",
       "- **Value Collaboration**: Enjoy working in teams and value the insights gained from diverse perspectives.\n",
       "\n",
       "- **Have a Growth Mindset**: Are eager to learn and grow in a dynamic, forward-thinking environment.\n",
       "\n",
       "If you are interested in contributing to our mission, explore our opportunities [here](https://wikimediafoundation.org).\n",
       "\n",
       "---\n",
       "\n",
       "**Join Us in Our Mission**\n",
       "By supporting Wikipedia, you become an integral part of a larger movement to make knowledge accessible to everyone. Donate today and help us continue to grow and improve! \n",
       "\n",
       "*Download Wikipedia available on Android and iOS. Customize your reading experience and save articles for offline reading.*\n",
       "\n",
       "[Wikipedia](https://www.wikipedia.org)  \n",
       "*Your source for free knowledge.*"
      ],
      "text/plain": [
       "<IPython.core.display.Markdown object>"
      ]
     },
     "metadata": {},
     "output_type": "display_data"
    },
    {
     "name": "stdout",
     "output_type": "stream",
     "text": [
      "None\n"
     ]
    }
   ],
   "source": [
    "print(create_brochure('Wikipedia', 'https://www.wikipedia.org/'))"
   ]
  },
  {
   "cell_type": "code",
   "execution_count": null,
   "id": "3669de24",
   "metadata": {},
   "outputs": [],
   "source": [
    "def streaming_create_brochure(company_name, url):\n",
    "    stream = openai.chat.completions.create(\n",
    "        model=MODEL,\n",
    "        messages=[\n",
    "            {'role':'system', 'content':brochure_system_prompt},\n",
    "            {'role':'user', 'content':get_brochure_user_prompt(company_name, url)}\n",
    "        ],\n",
    "        stream=True\n",
    "    )\n",
    "    response = ' '\n",
    "    display_handle = display(Markdown(' '), display_id=True)\n",
    "    for chunk in stream:\n",
    "        response += chunk.choices[0].delta.content or ' '\n",
    "        response = response.replace(\"```\",' ').replace(\"markdown\", ' ')\n",
    "        update_display(Markdown(response), display_id=display_handle.display_id)\n",
    "\n",
    "\n",
    "# streaming without markdown \n",
    "# for chunk in stream:\n",
    "#   print(chunk.choices[0].delta.content or ' ', end=' ')"
   ]
  },
  {
   "cell_type": "code",
   "execution_count": 27,
   "id": "6fd80107",
   "metadata": {},
   "outputs": [
    {
     "data": {
      "text/markdown": [
       "  # Wikipedia Brochure\n",
       "\n",
       "---\n",
       "\n",
       "## About Us \n",
       "**Wikipedia** is the world's largest and most comprehensive online encyclopedia, providing free access to a vast collection of knowledge. With over **6.9 million** articles in English and millions in multiple languages, it's a platform powered by volunteers from around the globe, driven by the mission of sharing knowledge freely.\n",
       "\n",
       "---\n",
       "\n",
       "## Company Culture\n",
       "At Wikipedia, inclusivity and collaboration are at the core of our culture. We operate in a dynamic, open, and community-driven environment where everyone can contribute to and improve the encyclopedia. Our ethos embraces diversity, with volunteers from innumerable backgrounds working together towards a common goal of accessible information for all. \n",
       "\n",
       "---\n",
       "\n",
       "## Our Users\n",
       "Wikipedia serves a broad audience of users ranging from students and researchers to casual learners and educators. With content available in over **300 languages**, we are committed to making information accessible to everyone, everywhere. \n",
       "\n",
       "---\n",
       "\n",
       "## How Can You Contribute?\n",
       "### Join Our Community!\n",
       "Wikipedia is not just an encyclopedia; it's a community composed of contributors from all walks of life. Whether you're a seasoned editor or a beginner, you can start contributing today. Share your knowledge, improve existing articles, and help curate the world's knowledge base.\n",
       "\n",
       "---\n",
       "\n",
       "## Careers at Wikipedia\n",
       "**Work with Us!**  \n",
       "As part of the **Wikimedia Foundation**, we offer a range of career opportunities that allow you to engage with innovative projects and contribute to a global mission. We seek passionate individuals who are committed to free knowledge and are eager to make a difference through technology, outreach, and community engagement. \n",
       "\n",
       "Explore roles in:\n",
       "- Technology and Software Development\n",
       "- Community Engagement and Support\n",
       "- Operations and Project Management\n",
       "\n",
       "### Learn More\n",
       "Visit our careers page to view current openings and apply to join our diverse team dedicated to knowledge equity.\n",
       "\n",
       "---\n",
       "\n",
       "## Get Involved\n",
       "Support our mission through donations or by participating to edit and curate content. Every effort counts in keeping Wikipedia free for all.\n",
       "\n",
       "---\n",
       "\n",
       "## Connect With Us\n",
       "Visit us at [Wikipedia](https://www.wikipedia.org/) and be a part of this incredible journey towards making knowledge accessible to everyone, everywhere. "
      ],
      "text/plain": [
       "<IPython.core.display.Markdown object>"
      ]
     },
     "metadata": {},
     "output_type": "display_data"
    },
    {
     "name": "stdout",
     "output_type": "stream",
     "text": [
      "None\n"
     ]
    }
   ],
   "source": [
    "print(streaming_create_brochure('Wikipedia', 'https://www.wikipedia.org/'))"
   ]
  },
  {
   "cell_type": "code",
   "execution_count": null,
   "id": "0c5a4b67",
   "metadata": {},
   "outputs": [],
   "source": []
  }
 ],
 "metadata": {
  "kernelspec": {
   "display_name": "venv",
   "language": "python",
   "name": "python3"
  },
  "language_info": {
   "codemirror_mode": {
    "name": "ipython",
    "version": 3
   },
   "file_extension": ".py",
   "mimetype": "text/x-python",
   "name": "python",
   "nbconvert_exporter": "python",
   "pygments_lexer": "ipython3",
   "version": "3.9.6"
  }
 },
 "nbformat": 4,
 "nbformat_minor": 5
}
