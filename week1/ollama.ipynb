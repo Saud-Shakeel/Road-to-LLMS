{
 "cells": [
  {
   "cell_type": "code",
   "execution_count": 6,
   "id": "1a9abe4e",
   "metadata": {},
   "outputs": [],
   "source": [
    "import ollama\n",
    "import os\n",
    "import requests\n",
    "from openai import OpenAI\n",
    "from IPython.display import Markdown, display"
   ]
  },
  {
   "cell_type": "code",
   "execution_count": 4,
   "id": "d0eb87c2",
   "metadata": {},
   "outputs": [],
   "source": [
    "system_prompt = \"You are a helpful assistant that helps in solving the mathematical tasks\"\n",
    "\n",
    "user_prompt = \"Solve (2+2)*(4)**2 and provide the complete approach.\"\n",
    "\n",
    "MODEL = 'llama3.2'\n",
    "MESSAGES = [\n",
    "    {'role':'system', 'content':system_prompt},\n",
    "    {'role':'user', 'content':user_prompt},\n",
    "]"
   ]
  },
  {
   "cell_type": "code",
   "execution_count": 7,
   "id": "c489f4a7",
   "metadata": {},
   "outputs": [
    {
     "data": {
      "text/markdown": [
       "**Solution Approach:**\n",
       "\n",
       "To solve the expression `(2+2)*(4)**2`, we will follow the order of operations, also known as PEMDAS (Parentheses, Exponents, Multiplication and Division, Addition and Subtraction).\n",
       "\n",
       "**Step 1: Evaluate the Expression inside the Parentheses**\n",
       "\n",
       "First, let's evaluate the expression inside the parentheses: `2+2`.\n",
       "\n",
       "```python\n",
       "# Define variables\n",
       "a = 2\n",
       "b = 2\n",
       "\n",
       "# Calculate the sum\n",
       "result_inside_parentheses = a + b\n",
       "```\n",
       "\n",
       "`result_inside_parentheses` will be equal to 4.\n",
       "\n",
       "**Step 2: Evaluate the Exponent**\n",
       "\n",
       "Next, let's evaluate the exponent: `(4)**2`.\n",
       "\n",
       "```python\n",
       "# Define variable\n",
       "c = 4\n",
       "\n",
       "# Calculate the square of c\n",
       "result_exponent = c ** 2\n",
       "```\n",
       "\n",
       "`result_exponent` will be equal to 16.\n",
       "\n",
       "**Step 3: Multiply the Results**\n",
       "\n",
       "Now, we multiply the results from steps 1 and 2:\n",
       "\n",
       "```python\n",
       "# Define variables\n",
       "d = result_inside_parentheses  # result from step 1\n",
       "e = result_exponent  # result from step 2\n",
       "\n",
       "# Calculate the product\n",
       "result_product = d * e\n",
       "```\n",
       "\n",
       "`result_product` will be equal to `4 * 16`, which is equal to 64.\n",
       "\n",
       "**Final Result:**\n",
       "\n",
       "Therefore, `(2+2)*(4)**2` evaluates to 64.\n",
       "\n",
       "Here's the complete Python code for the solution:\n",
       "\n",
       "```python\n",
       "def solve_expression():\n",
       "    # Define variables\n",
       "    a = 2\n",
       "    b = 2\n",
       "\n",
       "    c = 4\n",
       "\n",
       "    # Calculate the sum inside parentheses\n",
       "    result_inside_parentheses = a + b\n",
       "\n",
       "    # Calculate the square of c\n",
       "    result_exponent = c ** 2\n",
       "\n",
       "    # Calculate the product\n",
       "    result_product = result_inside_parentheses * result_exponent\n",
       "\n",
       "    return result_product\n",
       "\n",
       "# Execute the function and print the result\n",
       "result = solve_expression()\n",
       "print(\"The final answer is\", result)"
      ],
      "text/plain": [
       "<IPython.core.display.Markdown object>"
      ]
     },
     "metadata": {},
     "output_type": "display_data"
    },
    {
     "name": "stdout",
     "output_type": "stream",
     "text": [
      "None\n"
     ]
    }
   ],
   "source": [
    "response = ollama.chat(\n",
    "    model = MODEL,\n",
    "    messages = MESSAGES\n",
    ")\n",
    "print(display(Markdown(response['message']['content'])))"
   ]
  },
  {
   "cell_type": "code",
   "execution_count": 9,
   "id": "3090e808",
   "metadata": {},
   "outputs": [],
   "source": [
    "HEADERS = {'content-type':'json/application'}\n",
    "PAYLOAD = {\n",
    "    'model' : MODEL,\n",
    "    'messages' : MESSAGES,\n",
    "    'stream' : False\n",
    "}"
   ]
  },
  {
   "cell_type": "code",
   "execution_count": 15,
   "id": "ec1b9b73",
   "metadata": {},
   "outputs": [
    {
     "data": {
      "text/markdown": [
       "To solve this expression, we'll follow the order of operations (PEMDAS):\n",
       "\n",
       "**Step 1: Evaluate the expressions inside the parentheses**\n",
       "\n",
       "Inside the parentheses we have:\n",
       "\n",
       "(2+2) = 4\n",
       "\n",
       "So, our original expression becomes:\n",
       "(4)*(4)**2\n",
       "\n",
       "**Step 2: Raise 4 to the power of 2**\n",
       "\n",
       "Next, we'll evaluate the exponentiation ( ** ) :\n",
       "\n",
       "4**2 = 16\n",
       "\n",
       "Now our expression is:\n",
       "(4)*16\n",
       "\n",
       "**Step 3: Multiply 4 and 16**\n",
       "\n",
       "Finally, we multiply:\n",
       "\n",
       "4 * 16 = 64\n",
       "\n",
       "Therefore, the final result of the expression (2+2)*(4)**2 is:\n",
       "64"
      ],
      "text/plain": [
       "<IPython.core.display.Markdown object>"
      ]
     },
     "metadata": {},
     "output_type": "display_data"
    },
    {
     "name": "stdout",
     "output_type": "stream",
     "text": [
      "None\n"
     ]
    }
   ],
   "source": [
    "ollama_api = 'http://localhost:11434/api/chat'\n",
    "response = requests.post(ollama_api, json=PAYLOAD, headers=HEADERS)\n",
    "print(display(Markdown(response.json()['message']['content'])))"
   ]
  },
  {
   "cell_type": "code",
   "execution_count": 17,
   "id": "87dec859",
   "metadata": {},
   "outputs": [],
   "source": [
    "Ollama_api = 'http://localhost:11434/v1'\n",
    "api_key = 'ollama'"
   ]
  },
  {
   "cell_type": "code",
   "execution_count": 18,
   "id": "4b7b9225",
   "metadata": {},
   "outputs": [
    {
     "data": {
      "text/markdown": [
       "To solve this expression, we will follow the order of operations, also known as PEMDAS (Parentheses, Exponents, Multiplication and Division, Addition and Subtraction).\n",
       "\n",
       "Given Expression: `(2+2)*(4)^2`\n",
       "\n",
       "**Step 1: Evaluate the parentheses**\n",
       " Inside the parentheses we have `2 + 2 = 4`\n",
       "So the expression now becomes: `(4) * (4)^2`\n",
       "\n",
       "**Step 2: Evaluate the exponentiation**\n",
       "Now evaluate the exponentiation part, which is `$(4)^2 = 16`\n",
       "\n",
       "So the expression now becomes: `4 * 16`\n",
       "\n",
       "**Step 3: Multiply**\n",
       "Finally, multiply `4` and `16`\n",
       "`4 * 16 = 64`\n",
       "\n",
       "Therefore, the final solution to `(2+2)*(4)^²` is `64`."
      ],
      "text/plain": [
       "<IPython.core.display.Markdown object>"
      ]
     },
     "metadata": {},
     "output_type": "display_data"
    },
    {
     "name": "stdout",
     "output_type": "stream",
     "text": [
      "None\n"
     ]
    }
   ],
   "source": [
    "ollama_via_openai = OpenAI(base_url = Ollama_api, api_key = api_key)\n",
    "response = ollama_via_openai.chat.completions.create(\n",
    "    model = MODEL,\n",
    "    messages = MESSAGES\n",
    ")\n",
    "print(display(Markdown(response.choices[0].message.content)))"
   ]
  },
  {
   "cell_type": "code",
   "execution_count": null,
   "id": "6ef5722e",
   "metadata": {},
   "outputs": [],
   "source": []
  }
 ],
 "metadata": {
  "kernelspec": {
   "display_name": "venv",
   "language": "python",
   "name": "python3"
  },
  "language_info": {
   "codemirror_mode": {
    "name": "ipython",
    "version": 3
   },
   "file_extension": ".py",
   "mimetype": "text/x-python",
   "name": "python",
   "nbconvert_exporter": "python",
   "pygments_lexer": "ipython3",
   "version": "3.9.6"
  }
 },
 "nbformat": 4,
 "nbformat_minor": 5
}
