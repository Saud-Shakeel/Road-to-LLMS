{
 "cells": [
  {
   "cell_type": "code",
   "execution_count": null,
   "id": "fed6a41b",
   "metadata": {},
   "outputs": [],
   "source": [
    "import os\n",
    "import glob\n",
    "from openai import OpenAI\n",
    "from dotenv import load_dotenv\n",
    "import gradio as gr"
   ]
  },
  {
   "cell_type": "code",
   "execution_count": null,
   "id": "aeeb5d80",
   "metadata": {},
   "outputs": [],
   "source": [
    "load_dotenv()\n",
    "openai_api_key = os.getenv('OPENAI_API_KEY')\n",
    "\n",
    "openai = OpenAI()"
   ]
  },
  {
   "cell_type": "code",
   "execution_count": null,
   "id": "751992f4",
   "metadata": {},
   "outputs": [],
   "source": [
    "\n",
    "employees = glob.glob('knowledge-base/employees/*')\n",
    "products = glob.glob('knowledge-base/products/*')\n",
    "\n",
    "print(products)"
   ]
  },
  {
   "cell_type": "code",
   "execution_count": null,
   "id": "c8030b44",
   "metadata": {},
   "outputs": [],
   "source": [
    "context = {}\n",
    "\n",
    "for employee_name in employees:\n",
    "    emp_name = employee_name.split(\" \")[-1][:-3]\n",
    "    doc = \"\"\n",
    "    with open(employee_name, 'r') as f:\n",
    "        doc = f.read()\n",
    "    context[emp_name] = doc \n"
   ]
  },
  {
   "cell_type": "code",
   "execution_count": null,
   "id": "ac2fd084",
   "metadata": {},
   "outputs": [],
   "source": [
    "for product_name in products:\n",
    "    prod_name = product_name.split(os.sep)[-1][:-3]\n",
    "    doc = \"\"\n",
    "    with open(product_name, 'r') as f:\n",
    "        doc = f.read()\n",
    "    context[prod_name] = doc\n"
   ]
  },
  {
   "cell_type": "code",
   "execution_count": null,
   "id": "e0dfdf8a",
   "metadata": {},
   "outputs": [],
   "source": [
    "def get_relevant_context(user_prompt):\n",
    "    relevant = []\n",
    "\n",
    "    for relevant_name, relevant_description in context.items():\n",
    "        if relevant_name.lower() in user_prompt.lower():\n",
    "            relevant.append(relevant_description)\n",
    "    \n",
    "    return relevant"
   ]
  },
  {
   "cell_type": "code",
   "execution_count": null,
   "id": "5b0ac2f6",
   "metadata": {},
   "outputs": [],
   "source": [
    "def add_more_context(user_prompt):\n",
    "    relevant_context = get_relevant_context(user_prompt)\n",
    "\n",
    "    if relevant_context:\n",
    "        user_prompt += \"\\n\\nThe following additional context might be relevant in answering this question:\\n\\n\"\n",
    "\n",
    "        for relevant in relevant_context:\n",
    "            user_prompt += relevant + \"\\n\\n\"\n",
    "\n",
    "    return user_prompt \n",
    "\n"
   ]
  },
  {
   "cell_type": "code",
   "execution_count": null,
   "id": "452a26f5",
   "metadata": {},
   "outputs": [],
   "source": [
    "system_message = \"You are an expert in answering accurate questions about Insurellm, the Insurance Tech company. Give brief, accurate answers. If you don't know the answer, say so. Do not make anything up if you haven't been provided with relevant context.\""
   ]
  },
  {
   "cell_type": "code",
   "execution_count": null,
   "id": "28414f07",
   "metadata": {},
   "outputs": [],
   "source": [
    "def get_llm_response(user_message, history):\n",
    "\n",
    "    conversation = [{'role': 'system', 'content': system_message}] + history \n",
    "    user_prompt = add_more_context(user_message)\n",
    "    conversation.append({'role': 'user', 'content': user_prompt})\n",
    "\n",
    "    response = openai.chat.completions.create(\n",
    "        model= 'gpt-4o-mini',\n",
    "        messages= conversation,\n",
    "        stream= True\n",
    "    )\n",
    "    output = \"\"\n",
    "    for stream in response:\n",
    "        output += stream.choices[0].delta.content or \"\"\n",
    "    yield output"
   ]
  },
  {
   "cell_type": "code",
   "execution_count": null,
   "id": "aa6547cf",
   "metadata": {},
   "outputs": [],
   "source": [
    "view = gr.ChatInterface(get_llm_response, type=\"messages\").launch()"
   ]
  }
 ],
 "metadata": {
  "kernelspec": {
   "display_name": "venv",
   "language": "python",
   "name": "python3"
  },
  "language_info": {
   "codemirror_mode": {
    "name": "ipython",
    "version": 3
   },
   "file_extension": ".py",
   "mimetype": "text/x-python",
   "name": "python",
   "nbconvert_exporter": "python",
   "pygments_lexer": "ipython3",
   "version": "3.9.6"
  }
 },
 "nbformat": 4,
 "nbformat_minor": 5
}
