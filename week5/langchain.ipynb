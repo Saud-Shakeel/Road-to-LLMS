{
 "cells": [
  {
   "cell_type": "code",
   "execution_count": null,
   "id": "d0b41f1d",
   "metadata": {},
   "outputs": [],
   "source": [
    "import os \n",
    "import glob\n",
    "from dotenv import load_dotenv\n",
    "from openai import OpenAI\n",
    "from langchain_chroma import Chroma\n",
    "from langchain.vectorstores import FAISS\n",
    "from langchain.schema import Document\n",
    "from langchain_openai import OpenAIEmbeddings, ChatOpenAI\n",
    "from langchain.text_splitter import CharacterTextSplitter\n",
    "from langchain.document_loaders import DirectoryLoader, TextLoader\n",
    "from langchain.memory import ConversationBufferMemory\n",
    "from langchain.chains import ConversationalRetrievalChain\n",
    "from langchain_core.callbacks import StdOutCallbackHandler\n",
    "import gradio as gr"
   ]
  },
  {
   "cell_type": "code",
   "execution_count": null,
   "id": "39dbdeaa",
   "metadata": {},
   "outputs": [],
   "source": [
    "load_dotenv()\n",
    "openai_api_key = os.getenv('OPENAI_API_KEY')\n",
    "openai = OpenAI()"
   ]
  },
  {
   "cell_type": "code",
   "execution_count": null,
   "id": "e945c8dc",
   "metadata": {},
   "outputs": [],
   "source": [
    "MODEL = 'gpt-4o-mini'\n",
    "vector_db = 'vector_db'"
   ]
  },
  {
   "cell_type": "code",
   "execution_count": null,
   "id": "794069d7",
   "metadata": {},
   "outputs": [],
   "source": [
    "documents = []\n",
    "\n",
    "folders = glob.glob('knowledge-base/*')\n",
    "for folder in folders:\n",
    "\n",
    "    doc_type = folder.split(os.sep)[-1]\n",
    "    \n",
    "    loader = DirectoryLoader(folder, glob= \"**/*.md\", loader_cls= TextLoader)\n",
    "    folder_docs = loader.load()\n",
    "    \n",
    "    \n",
    "    for doc in folder_docs:\n",
    "        doc.metadata['doc_type'] = doc_type\n",
    "        documents.append(doc)\n"
   ]
  },
  {
   "cell_type": "code",
   "execution_count": null,
   "id": "da97132b",
   "metadata": {},
   "outputs": [],
   "source": [
    "text_splitter = CharacterTextSplitter(chunk_size = 1088, chunk_overlap = 200)\n",
    "spllited_text = text_splitter.split_documents(documents)"
   ]
  },
  {
   "cell_type": "code",
   "execution_count": null,
   "id": "41a990b7",
   "metadata": {},
   "outputs": [],
   "source": [
    "doc_types = set(chunk.metadata['doc_type'] for chunk in spllited_text)\n",
    "print(f\"Document types found: {', '.join(doc_types)}\")"
   ]
  },
  {
   "cell_type": "code",
   "execution_count": null,
   "id": "4af8c2bd",
   "metadata": {},
   "outputs": [],
   "source": [
    "embeddings = OpenAIEmbeddings()"
   ]
  },
  {
   "cell_type": "code",
   "execution_count": null,
   "id": "e759ca75",
   "metadata": {},
   "outputs": [],
   "source": [
    "# if os.path.exists(vector_db):\n",
    "#     Chroma(persist_directory= vector_db, embedding_function= embeddings).delete_collection()"
   ]
  },
  {
   "cell_type": "code",
   "execution_count": null,
   "id": "67cf4ac9",
   "metadata": {},
   "outputs": [],
   "source": [
    "# vectorStore = Chroma.from_documents(embedding= embeddings, persist_directory= vector_db, documents= spllited_text)\n",
    "# print(f\"Vector Store created with {vectorStore._collection.count()} documents.\")"
   ]
  },
  {
   "cell_type": "code",
   "execution_count": null,
   "id": "aafcfcfc",
   "metadata": {},
   "outputs": [],
   "source": [
    "# collection = vectorStore._collection\n",
    "# result = collection.get(limit=1, include=['embeddings'])['embeddings'][0]\n",
    "# dimensions =  len(result)\n",
    "# print(f\"The vector has {dimensions} dimensions.\")\n"
   ]
  },
  {
   "cell_type": "code",
   "execution_count": null,
   "id": "6a68e531",
   "metadata": {},
   "outputs": [],
   "source": [
    "vectorStore = FAISS.from_documents(embedding= embeddings, documents= spllited_text)\n",
    "print(f\"Vector Store created with {vectorStore.index.d} dimensions and {vectorStore.index.ntotal} documents\")"
   ]
  },
  {
   "cell_type": "code",
   "execution_count": null,
   "id": "d8666408",
   "metadata": {},
   "outputs": [],
   "source": [
    "def RAG_pipeline(prompt, history):\n",
    "    llm = ChatOpenAI(temperature= 0.5, model= MODEL)\n",
    "    retriever = vectorStore.as_retriever(search_kwargs = {\"k\": 20})\n",
    "    memory = ConversationBufferMemory(memory_key= 'chat_history', return_messages= True)\n",
    "\n",
    "    conversation_chain = ConversationalRetrievalChain.from_llm(llm=llm, retriever=retriever, memory=memory)\n",
    "\n",
    "    return conversation_chain.invoke({'question': prompt, \"chat_history\": history})['answer']"
   ]
  },
  {
   "cell_type": "code",
   "execution_count": null,
   "id": "0880e6a6",
   "metadata": {},
   "outputs": [],
   "source": [
    "gr.ChatInterface(RAG_pipeline).launch()"
   ]
  },
  {
   "cell_type": "code",
   "execution_count": null,
   "id": "1a97baed",
   "metadata": {},
   "outputs": [],
   "source": [
    "def RAG_testing_pipeline(prompt, history):\n",
    "    llm = ChatOpenAI(temperature= 0.5, model= MODEL)\n",
    "    retriever = vectorStore.as_retriever()\n",
    "    memory = ConversationBufferMemory(memory_key= 'chat_history', return_messages= True)\n",
    "\n",
    "    conversation_chain = ConversationalRetrievalChain.from_llm(llm=llm, retriever=retriever, memory=memory, callbacks= [StdOutCallbackHandler()])\n",
    "\n",
    "    return conversation_chain.invoke({'question': prompt, \"chat_history\": history})['answer']"
   ]
  },
  {
   "cell_type": "code",
   "execution_count": null,
   "id": "6b0f1e15",
   "metadata": {},
   "outputs": [],
   "source": [
    "RAG_testing_pipeline('Who won the prestigious IIOTY award in 2023?', [])"
   ]
  },
  {
   "cell_type": "code",
   "execution_count": null,
   "id": "e3e461e6",
   "metadata": {},
   "outputs": [],
   "source": []
  }
 ],
 "metadata": {
  "kernelspec": {
   "display_name": "venv",
   "language": "python",
   "name": "python3"
  },
  "language_info": {
   "codemirror_mode": {
    "name": "ipython",
    "version": 3
   },
   "file_extension": ".py",
   "mimetype": "text/x-python",
   "name": "python",
   "nbconvert_exporter": "python",
   "pygments_lexer": "ipython3",
   "version": "3.9.6"
  }
 },
 "nbformat": 4,
 "nbformat_minor": 5
}
