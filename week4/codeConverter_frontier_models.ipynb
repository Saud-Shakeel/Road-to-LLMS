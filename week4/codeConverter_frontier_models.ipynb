{
 "cells": [
  {
   "cell_type": "code",
   "execution_count": 119,
   "id": "3c9aecb2",
   "metadata": {},
   "outputs": [],
   "source": [
    "from openai import OpenAI\n",
    "from dotenv import load_dotenv\n",
    "import os\n",
    "import anthropic\n",
    "import gradio as gr\n",
    "import io\n",
    "import sys\n",
    "import subprocess"
   ]
  },
  {
   "cell_type": "code",
   "execution_count": 120,
   "id": "c91fbcdd",
   "metadata": {},
   "outputs": [
    {
     "name": "stdout",
     "output_type": "stream",
     "text": [
      "API key exists, good to go.\n"
     ]
    }
   ],
   "source": [
    "load_dotenv()\n",
    "openai_api_key = os.getenv('OPENAI_API_KEY')\n",
    "\n",
    "if openai_api_key and openai_api_key.startswith('sk-proj-'):\n",
    "    print('API key exists, good to go.')\n",
    "else:\n",
    "    print(\"API key doesn't exist, troubleshoot the problem\")"
   ]
  },
  {
   "cell_type": "code",
   "execution_count": 121,
   "id": "9e66f5e5",
   "metadata": {},
   "outputs": [],
   "source": [
    "openai = OpenAI()\n",
    "GPT_MODEL = 'gpt-4o-mini'\n",
    "anthropic = anthropic.Anthropic()\n",
    "CLAUDE_MODEL = 'claude-3-5-sonnet-20240620'\n",
    "\n",
    "system_message = \"You are an assistant that reimplements Python code in high performance C++ for an M1 Mac. \"\n",
    "system_message += \"Respond only with C++ code; use comments sparingly and do not provide any explanation other than occasional comments. \"\n",
    "system_message += \"The C++ response needs to produce an identical output in the fastest possible time. \"\n",
    "system_message += \"#include all necesarry libaries or packages that are required for a C++ code.\"\n",
    "\n",
    "\n",
    "def user_message(python_code):\n",
    "    prompt = \"Rewrite this Python code in C++ with the fastest possible implementation that produces identical output in the least time. \"\n",
    "    prompt += \"Respond only with C++ code; do not explain your work other than a few comments. \"\n",
    "    prompt += \"Pay attention to number types to ensure no int overflows. Remember to #include all necessary C++ packages such as iomanip.\\n\\n\"\n",
    "    prompt += python_code\n",
    "    return prompt"
   ]
  },
  {
   "cell_type": "code",
   "execution_count": 122,
   "id": "8dc4b0bb",
   "metadata": {},
   "outputs": [],
   "source": [
    "def message_for(python_code):\n",
    "    return [\n",
    "        {'role': 'system', 'content': system_message},\n",
    "        {'role': 'user', 'content': user_message(python_code)}\n",
    "    ]\n",
    "    "
   ]
  },
  {
   "cell_type": "code",
   "execution_count": 124,
   "id": "4d8d630c",
   "metadata": {},
   "outputs": [],
   "source": [
    "def write_cpp_code_to_file(cpp_code):\n",
    "    code = cpp_code.replace(\"```cpp\\n\", \"\").replace(\"```\", \"\")\n",
    "    with open('optimized.cpp', 'w') as f:\n",
    "        f.write(code)\n",
    "    "
   ]
  },
  {
   "cell_type": "code",
   "execution_count": 125,
   "id": "9aadef49",
   "metadata": {},
   "outputs": [],
   "source": [
    "def stream_gpt_response(python_code):\n",
    "    response = openai.chat.completions.create(\n",
    "        model= GPT_MODEL,\n",
    "        messages= message_for(python_code),\n",
    "        stream= True\n",
    "    )\n",
    "    result = \"\"\n",
    "    for chunk in response:\n",
    "        stream = chunk.choices[0].delta.content or \"\"\n",
    "        result += stream\n",
    "    yield result.replace(\"```cpp\\n\", \"\").replace(\"```\", \"\")\n",
    "    \n",
    "    write_cpp_code_to_file(result)\n"
   ]
  },
  {
   "cell_type": "code",
   "execution_count": 126,
   "id": "c6d05b90",
   "metadata": {},
   "outputs": [],
   "source": [
    "def stream_claude_response(python_code):\n",
    "    response = anthropic.messages.stream(\n",
    "        model= CLAUDE_MODEL,\n",
    "        system= system_message,\n",
    "        messages= [{\"role\": \"user\", \"content\": user_message(python_code)}],\n",
    "        max_tokens= 200\n",
    "    )\n",
    "    result = \"\"\n",
    "    with response as stream:\n",
    "        for chunk in stream.text_stream:\n",
    "            result += chunk\n",
    "    yield result.replace(\"```cpp\\n\", \"\").replace(\"```\", \"\")\n",
    "    \n",
    "    write_cpp_code_to_file(result)\n"
   ]
  },
  {
   "cell_type": "code",
   "execution_count": 127,
   "id": "05aa44d3",
   "metadata": {},
   "outputs": [],
   "source": [
    "py_code = \"\"\"\n",
    "import time\n",
    "\n",
    "def calculate(iterations, param1, param2):\n",
    "    result = 1.0\n",
    "    for i in range(1, iterations+1):\n",
    "        j = i * param1 - param2\n",
    "        result -= (1/j)\n",
    "        j = i * param1 + param2\n",
    "        result += (1/j)\n",
    "    return result\n",
    "\n",
    "start_time = time.time()\n",
    "result = calculate(100_000_000, 4, 1) * 4\n",
    "end_time = time.time()\n",
    "\n",
    "print(f\"Result: {result:.12f}\")\n",
    "print(f\"Execution Time: {(end_time - start_time):.6f} seconds\")\n",
    "\"\"\""
   ]
  },
  {
   "cell_type": "code",
   "execution_count": 128,
   "id": "a1274573",
   "metadata": {},
   "outputs": [
    {
     "name": "stdout",
     "output_type": "stream",
     "text": [
      "Result: 3.141592658589\n",
      "Execution Time: 21.734672 seconds\n"
     ]
    }
   ],
   "source": [
    "exec(py_code)"
   ]
  },
  {
   "cell_type": "code",
   "execution_count": 129,
   "id": "cf9b37b0",
   "metadata": {},
   "outputs": [
    {
     "data": {
      "text/plain": [
       "<generator object stream_gpt_response at 0x152240c80>"
      ]
     },
     "execution_count": 129,
     "metadata": {},
     "output_type": "execute_result"
    }
   ],
   "source": [
    "stream_gpt_response(py_code)"
   ]
  },
  {
   "cell_type": "code",
   "execution_count": 130,
   "id": "e246d2eb",
   "metadata": {},
   "outputs": [],
   "source": [
    "def select_streaming_model(model, python_code):\n",
    "    if model == 'GPT':\n",
    "        response = stream_gpt_response(python_code)\n",
    "    elif model == 'Claude':\n",
    "        response = stream_claude_response(python_code)\n",
    "    else:\n",
    "        raise ValueError(\"Unknown model\")\n",
    "\n",
    "    for streaming_text in response:\n",
    "        yield streaming_text"
   ]
  },
  {
   "cell_type": "code",
   "execution_count": null,
   "id": "9afd86e8",
   "metadata": {},
   "outputs": [
    {
     "name": "stdout",
     "output_type": "stream",
     "text": [
      "Running on local URL:  http://127.0.0.1:7882\n",
      "\n",
      "To create a public link, set `share=True` in `launch()`.\n"
     ]
    },
    {
     "data": {
      "text/html": [
       "<div><iframe src=\"http://127.0.0.1:7882/\" width=\"100%\" height=\"500\" allow=\"autoplay; camera; microphone; clipboard-read; clipboard-write;\" frameborder=\"0\" allowfullscreen></iframe></div>"
      ],
      "text/plain": [
       "<IPython.core.display.HTML object>"
      ]
     },
     "metadata": {},
     "output_type": "display_data"
    },
    {
     "data": {
      "text/plain": []
     },
     "execution_count": 131,
     "metadata": {},
     "output_type": "execute_result"
    }
   ],
   "source": [
    "# with gr.Blocks() as ui:\n",
    "#     with gr.Row():\n",
    "#         python = gr.Textbox(label=\"Python code:\", lines=10, value=py_code)\n",
    "#         cpp = gr.Textbox(label=\"C++ code:\", lines=10)\n",
    "#     with gr.Row():\n",
    "#         model = gr.Dropdown([\"GPT\", \"Claude\"], label=\"Select model\", value=\"GPT\")\n",
    "#         convert = gr.Button(\"Convert code\")\n",
    "\n",
    "#     convert.click(select_streaming_model, inputs=[model, python], outputs=[cpp])\n",
    "\n",
    "# ui.launch(inbrowser=True)\n"
   ]
  },
  {
   "cell_type": "code",
   "execution_count": 132,
   "id": "281b7775",
   "metadata": {},
   "outputs": [],
   "source": [
    "def execute_python(code):\n",
    "    try:\n",
    "        output = io.StringIO()\n",
    "        sys.stdout = output\n",
    "        exec(code)\n",
    "    finally:\n",
    "        sys.stdout = sys.__stdout__\n",
    "    return output.getvalue()"
   ]
  },
  {
   "cell_type": "code",
   "execution_count": 133,
   "id": "5a03d0e2",
   "metadata": {},
   "outputs": [],
   "source": [
    "def execute_cpp(code):\n",
    "        write_cpp_code_to_file(code)\n",
    "        try:\n",
    "            compile_cmd = [\"clang++\", \"-Ofast\", \"-std=c++17\", \"-march=armv8.5-a\", \"-mtune=apple-m1\", \"-mcpu=apple-m1\", \"-o\", \"optimized\", \"optimized.cpp\"]\n",
    "            compile_result = subprocess.run(compile_cmd, check=True, text=True, capture_output=True)\n",
    "            run_cmd = [\"./optimized\"]\n",
    "            run_result = subprocess.run(run_cmd, check=True, text=True, capture_output=True)\n",
    "            return run_result.stdout\n",
    "        except subprocess.CalledProcessError as e:\n",
    "            return f\"An error occurred:\\n{e.stderr}\""
   ]
  },
  {
   "cell_type": "code",
   "execution_count": 134,
   "id": "20932c97",
   "metadata": {},
   "outputs": [
    {
     "name": "stdout",
     "output_type": "stream",
     "text": [
      "Running on local URL:  http://127.0.0.1:7883\n",
      "\n",
      "To create a public link, set `share=True` in `launch()`.\n"
     ]
    },
    {
     "data": {
      "text/html": [
       "<div><iframe src=\"http://127.0.0.1:7883/\" width=\"100%\" height=\"500\" allow=\"autoplay; camera; microphone; clipboard-read; clipboard-write;\" frameborder=\"0\" allowfullscreen></iframe></div>"
      ],
      "text/plain": [
       "<IPython.core.display.HTML object>"
      ]
     },
     "metadata": {},
     "output_type": "display_data"
    },
    {
     "data": {
      "text/plain": []
     },
     "execution_count": 134,
     "metadata": {},
     "output_type": "execute_result"
    }
   ],
   "source": [
    "with gr.Blocks() as ui:\n",
    "    gr.Markdown(\"## Convert code from Python to C++\")\n",
    "    with gr.Row():\n",
    "        python = gr.Textbox(label=\"Python code:\", value=py_code, lines=10)\n",
    "        cpp = gr.Textbox(label=\"C++ code:\", lines=10)\n",
    "    with gr.Row():\n",
    "        model = gr.Dropdown([\"GPT\", \"Claude\"], label=\"Select model\", value=\"GPT\")\n",
    "    with gr.Row():\n",
    "        convert = gr.Button(\"Convert code\")\n",
    "    with gr.Row():\n",
    "        python_run = gr.Button(\"Run Python\")\n",
    "        cpp_run = gr.Button(\"Run C++\")\n",
    "    with gr.Row():\n",
    "        python_out = gr.TextArea(label=\"Python result:\", elem_classes=[\"python\"])\n",
    "        cpp_out = gr.TextArea(label=\"C++ result:\", elem_classes=[\"cpp\"])\n",
    "\n",
    "    convert.click(select_streaming_model, inputs=[model, python], outputs=[cpp])\n",
    "    python_run.click(execute_python, inputs=[python], outputs=[python_out])\n",
    "    cpp_run.click(execute_cpp, inputs=[cpp], outputs=[cpp_out])\n",
    "\n",
    "ui.launch(inbrowser=True)"
   ]
  },
  {
   "cell_type": "code",
   "execution_count": null,
   "id": "95214b19",
   "metadata": {},
   "outputs": [],
   "source": []
  }
 ],
 "metadata": {
  "kernelspec": {
   "display_name": "venv",
   "language": "python",
   "name": "python3"
  },
  "language_info": {
   "codemirror_mode": {
    "name": "ipython",
    "version": 3
   },
   "file_extension": ".py",
   "mimetype": "text/x-python",
   "name": "python",
   "nbconvert_exporter": "python",
   "pygments_lexer": "ipython3",
   "version": "3.9.6"
  }
 },
 "nbformat": 4,
 "nbformat_minor": 5
}
